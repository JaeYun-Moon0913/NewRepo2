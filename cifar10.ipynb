{
 "cells": [
  {
   "cell_type": "code",
   "execution_count": 1,
   "metadata": {},
   "outputs": [],
   "source": [
    "import torchvision.models as models\n",
    "import torch.nn as nn\n",
    "import torch\n",
    "import os\n",
    "import cv2\n",
    "from PIL import Image \n",
    "import glob\n",
    "import torchvision\n",
    "import torchvision.transforms as transforms\n",
    "import datetime\n",
    "import numpy as np\n",
    "import torch.nn.functional as F\n",
    "import matplotlib.pyplot as plt\n",
    "import matplotlib\n",
    "from torchvision.utils import make_grid, save_image\n",
    "\n",
    "\n",
    "\n",
    "from Grad_CAM.img_norm import Normalize, transform_img\n",
    "from Grad_CAM.model_value import mv"
   ]
  },
  {
   "cell_type": "code",
   "execution_count": 2,
   "metadata": {},
   "outputs": [
    {
     "name": "stderr",
     "output_type": "stream",
     "text": [
      "c:\\Users\\mjy22\\anaconda3\\envs\\pytorch\\lib\\site-packages\\torchvision\\models\\_utils.py:208: UserWarning: The parameter 'pretrained' is deprecated since 0.13 and will be removed in 0.15, please use 'weights' instead.\n",
      "  warnings.warn(\n",
      "c:\\Users\\mjy22\\anaconda3\\envs\\pytorch\\lib\\site-packages\\torchvision\\models\\_utils.py:223: UserWarning: Arguments other than a weight enum or `None` for 'weights' are deprecated since 0.13 and will be removed in 0.15. The current behavior is equivalent to passing `weights=VGG16_Weights.IMAGENET1K_V1`. You can also use `weights=VGG16_Weights.DEFAULT` to get the most up-to-date weights.\n",
      "  warnings.warn(msg)\n"
     ]
    },
    {
     "name": "stdout",
     "output_type": "stream",
     "text": [
      "VGG(\n",
      "  (features): Sequential(\n",
      "    (0): Conv2d(3, 64, kernel_size=(3, 3), stride=(1, 1), padding=(1, 1))\n",
      "    (1): ReLU(inplace=True)\n",
      "    (2): Conv2d(64, 64, kernel_size=(3, 3), stride=(1, 1), padding=(1, 1))\n",
      "    (3): ReLU(inplace=True)\n",
      "    (4): MaxPool2d(kernel_size=2, stride=2, padding=0, dilation=1, ceil_mode=False)\n",
      "    (5): Conv2d(64, 128, kernel_size=(3, 3), stride=(1, 1), padding=(1, 1))\n",
      "    (6): ReLU(inplace=True)\n",
      "    (7): Conv2d(128, 128, kernel_size=(3, 3), stride=(1, 1), padding=(1, 1))\n",
      "    (8): ReLU(inplace=True)\n",
      "    (9): MaxPool2d(kernel_size=2, stride=2, padding=0, dilation=1, ceil_mode=False)\n",
      "    (10): Conv2d(128, 256, kernel_size=(3, 3), stride=(1, 1), padding=(1, 1))\n",
      "    (11): ReLU(inplace=True)\n",
      "    (12): Conv2d(256, 256, kernel_size=(3, 3), stride=(1, 1), padding=(1, 1))\n",
      "    (13): ReLU(inplace=True)\n",
      "    (14): Conv2d(256, 256, kernel_size=(3, 3), stride=(1, 1), padding=(1, 1))\n",
      "    (15): ReLU(inplace=True)\n",
      "    (16): MaxPool2d(kernel_size=2, stride=2, padding=0, dilation=1, ceil_mode=False)\n",
      "    (17): Conv2d(256, 512, kernel_size=(3, 3), stride=(1, 1), padding=(1, 1))\n",
      "    (18): ReLU(inplace=True)\n",
      "    (19): Conv2d(512, 512, kernel_size=(3, 3), stride=(1, 1), padding=(1, 1))\n",
      "    (20): ReLU(inplace=True)\n",
      "    (21): Conv2d(512, 512, kernel_size=(3, 3), stride=(1, 1), padding=(1, 1))\n",
      "    (22): ReLU(inplace=True)\n",
      "    (23): MaxPool2d(kernel_size=2, stride=2, padding=0, dilation=1, ceil_mode=False)\n",
      "    (24): Conv2d(512, 512, kernel_size=(3, 3), stride=(1, 1), padding=(1, 1))\n",
      "    (25): ReLU(inplace=True)\n",
      "    (26): Conv2d(512, 512, kernel_size=(3, 3), stride=(1, 1), padding=(1, 1))\n",
      "    (27): ReLU(inplace=True)\n",
      "    (28): Conv2d(512, 512, kernel_size=(3, 3), stride=(1, 1), padding=(1, 1))\n",
      "    (29): ReLU(inplace=True)\n",
      "    (30): MaxPool2d(kernel_size=2, stride=2, padding=0, dilation=1, ceil_mode=False)\n",
      "  )\n",
      "  (avgpool): AdaptiveAvgPool2d(output_size=(7, 7))\n",
      "  (classifier): Sequential(\n",
      "    (0): Linear(in_features=25088, out_features=4096, bias=True)\n",
      "    (1): ReLU(inplace=True)\n",
      "    (2): Dropout(p=0.5, inplace=False)\n",
      "    (3): Linear(in_features=4096, out_features=4096, bias=True)\n",
      "    (4): ReLU(inplace=True)\n",
      "    (5): Dropout(p=0.5, inplace=False)\n",
      "    (6): Linear(in_features=4096, out_features=1000, bias=True)\n",
      "  )\n",
      ")\n"
     ]
    }
   ],
   "source": [
    "use_pretrained=True # 학습 된 파라미터 사용\n",
    "net = models.vgg16(pretrained=use_pretrained).cuda()\n",
    "\n",
    "# 모델 네트워크 구성 출력\n",
    "print(net)"
   ]
  },
  {
   "cell_type": "code",
   "execution_count": 3,
   "metadata": {},
   "outputs": [
    {
     "name": "stdout",
     "output_type": "stream",
     "text": [
      "features\n",
      "avgpool\n",
      "classifier\n"
     ]
    }
   ],
   "source": [
    "for i in net._modules.items():\n",
    "    print(i[0])\n",
    "    "
   ]
  },
  {
   "cell_type": "code",
   "execution_count": 4,
   "metadata": {},
   "outputs": [
    {
     "data": {
      "text/plain": [
       "odict_keys(['features', 'avgpool', 'classifier'])"
      ]
     },
     "execution_count": 4,
     "metadata": {},
     "output_type": "execute_result"
    }
   ],
   "source": [
    "net._modules.keys()"
   ]
  },
  {
   "cell_type": "code",
   "execution_count": 5,
   "metadata": {},
   "outputs": [],
   "source": [
    "def norm_preprocess(img_pth,means,stds): # img_pth 주면 img -> torch tensor type (1,3,224,224) \n",
    "    # means = [r,g,b] / std = [r,g,b]\n",
    "    p_img = Image.open(img_pth) \n",
    "    tensor_img = torch.from_numpy(np.asarray(p_img)).permute(2,0,1).unsqueeze(0).float().div(255).cuda()\n",
    "    # vgg -> 1,3,224,224\n",
    "    # alex -> 1,3,227,227\n",
    "    if tensor_img != (1,3,224,224) :\n",
    "        tensor_img = F.interpolate(tensor_img,size=(224,224),mode='bilinear', align_corners=False)\n",
    "\n",
    "    norm_mean_std = Normalize(mean=means, std=stds)\n",
    "    nt_img = norm_mean_std(tensor_img)\n",
    "\n",
    "    return nt_img , tensor_img"
   ]
  },
  {
   "cell_type": "code",
   "execution_count": 6,
   "metadata": {},
   "outputs": [],
   "source": [
    "# !wget https://raw.githubusercontent.com/pytorch/hub/master/imagenet_classes.txt"
   ]
  },
  {
   "cell_type": "code",
   "execution_count": 7,
   "metadata": {},
   "outputs": [
    {
     "data": {
      "text/plain": [
       "1000"
      ]
     },
     "execution_count": 7,
     "metadata": {},
     "output_type": "execute_result"
    }
   ],
   "source": [
    "label_list = [] \n",
    "f = open('./imagenet_classes.txt','r')\n",
    "while True:\n",
    "    line = f.readline()\n",
    "    if not line: break\n",
    "    label_list.append(line.split('\\n')[0])\n",
    "f.close()\n",
    "\n",
    "len(label_list)\n"
   ]
  },
  {
   "cell_type": "code",
   "execution_count": 8,
   "metadata": {},
   "outputs": [
    {
     "name": "stdout",
     "output_type": "stream",
     "text": [
      "./car_data/test_data\\000099.jpg\n"
     ]
    }
   ],
   "source": [
    "DEVICE = 'cuda' if torch.cuda.is_available() else 'cpu'\n",
    "img_pth = glob.glob('./car_data/test_data/*.jpg')\n",
    "model_pth = glob.glob('./vgg_pt/*pt')\n",
    "save_pth = './car_data/grad_cam_result/vgg_pt/sportcar/'\n",
    "label_idx = 817\n",
    "print(img_pth[0])\n"
   ]
  },
  {
   "cell_type": "code",
   "execution_count": 9,
   "metadata": {},
   "outputs": [
    {
     "name": "stderr",
     "output_type": "stream",
     "text": [
      "C:\\Users\\mjy22\\AppData\\Local\\Temp\\ipykernel_15056\\3694273873.py:4: UserWarning: The given NumPy array is not writable, and PyTorch does not support non-writable tensors. This means writing to this tensor will result in undefined behavior. You may want to copy the array to protect its data or make it writable before converting it to a tensor. This type of warning will be suppressed for the rest of this program. (Triggered internally at  C:\\cb\\pytorch_1000000000000\\work\\torch\\csrc\\utils\\tensor_numpy.cpp:178.)\n",
      "  tensor_img = torch.from_numpy(np.asarray(p_img)).permute(2,0,1).unsqueeze(0).float().div(255).cuda()\n",
      "c:\\Users\\mjy22\\anaconda3\\envs\\pytorch\\lib\\site-packages\\torch\\nn\\modules\\module.py:1053: UserWarning: Using a non-full backward hook when the forward contains multiple autograd Nodes is deprecated and will be removed in future versions. This hook will be missing some grad_input. Please use register_full_backward_hook to get the documented behavior.\n",
      "  warnings.warn(\"Using a non-full backward hook when the forward contains multiple autograd Nodes \"\n"
     ]
    },
    {
     "name": "stdout",
     "output_type": "stream",
     "text": [
      "---------------------\n",
      "./car_data/test_data\\000099.jpg\n",
      "436\n",
      "beach wagon\n",
      "---------------------\n",
      "./car_data/test_data\\000101.jpg\n",
      "656\n",
      "minivan\n",
      "---------------------\n",
      "./car_data/test_data\\000141.jpg\n",
      "656\n",
      "minivan\n",
      "---------------------\n",
      "./car_data/test_data\\000143.jpg\n",
      "436\n",
      "beach wagon\n",
      "---------------------\n",
      "./car_data/test_data\\000152.jpg\n",
      "656\n",
      "minivan\n",
      "---------------------\n",
      "./car_data/test_data\\000153.jpg\n",
      "436\n",
      "beach wagon\n",
      "---------------------\n",
      "./car_data/test_data\\000154.jpg\n",
      "436\n",
      "beach wagon\n",
      "---------------------\n",
      "./car_data/test_data\\000194.jpg\n",
      "656\n",
      "minivan\n",
      "---------------------\n",
      "./car_data/test_data\\000851.jpg\n",
      "882\n",
      "vacuum\n",
      "---------------------\n",
      "./car_data/test_data\\001097.jpg\n",
      "479\n",
      "car wheel\n",
      "---------------------\n",
      "./car_data/test_data\\001221.jpg\n",
      "436\n",
      "beach wagon\n",
      "---------------------\n",
      "./car_data/test_data\\001273.jpg\n",
      "436\n",
      "beach wagon\n",
      "---------------------\n",
      "./car_data/test_data\\001688.jpg\n",
      "882\n",
      "vacuum\n",
      "---------------------\n",
      "./car_data/test_data\\001883.jpg\n",
      "656\n",
      "minivan\n",
      "---------------------\n",
      "./car_data/test_data\\001958.jpg\n",
      "511\n",
      "convertible\n",
      "---------------------\n",
      "./car_data/test_data\\002211.jpg\n",
      "511\n",
      "convertible\n"
     ]
    }
   ],
   "source": [
    "for i in img_pth:\n",
    "    name = i.split('/')[2].split('\\\\')[1].split('.')[0] # .split('/')[3]\n",
    "    img,origin_img = norm_preprocess(i,means=[0.485, 0.456, 0.406], stds=[0.229, 0.224, 0.225])\n",
    "    grad_cam = mv('features',net,img,origin_img,label_idx,name,save_pth,label_list)\n",
    "    grad_cam_map, predic_idx,predic_cls = grad_cam.make_img()\n",
    "    if label_idx != predic_idx: \n",
    "        save_path = './car_data/grad_cam_result/vgg_pt/False_result'\n",
    "        print('-------'*3)\n",
    "        print(i)\n",
    "        print(predic_idx)\n",
    "        print(predic_cls)\n",
    "        grads_cam = mv('features',net,img,origin_img,predic_idx,name,save_path,label_list,re=True)\n",
    "        a,b,c= grads_cam.make_img()\n"
   ]
  },
  {
   "cell_type": "code",
   "execution_count": 10,
   "metadata": {},
   "outputs": [
    {
     "name": "stdout",
     "output_type": "stream",
     "text": [
      "(224, 224)\n"
     ]
    },
    {
     "data": {
      "text/plain": [
       "array([[0.01262219, 0.01262219, 0.01262219, ..., 0.28693682, 0.28693682,\n",
       "        0.28693682],\n",
       "       [0.01262219, 0.01262219, 0.01262219, ..., 0.28693682, 0.28693682,\n",
       "        0.28693682],\n",
       "       [0.01262219, 0.01262219, 0.01262219, ..., 0.28693682, 0.28693682,\n",
       "        0.28693682],\n",
       "       ...,\n",
       "       [0.4222462 , 0.4222462 , 0.4222462 , ..., 0.26425016, 0.26425016,\n",
       "        0.26425016],\n",
       "       [0.4222462 , 0.4222462 , 0.4222462 , ..., 0.26425016, 0.26425016,\n",
       "        0.26425016],\n",
       "       [0.4222462 , 0.4222462 , 0.4222462 , ..., 0.26425016, 0.26425016,\n",
       "        0.26425016]], dtype=float32)"
      ]
     },
     "execution_count": 10,
     "metadata": {},
     "output_type": "execute_result"
    }
   ],
   "source": [
    "htmap = grad_cam_map # 1,1,224,224 tensor gpu \n",
    "\n",
    "htmap_np=htmap.cpu().numpy() # 1,1,224,224 numpy \n",
    "\n",
    "htmap_np_sqeeze = htmap_np.squeeze() # 224,224 numpy -> fromarray \n",
    "\n",
    "print(htmap_np_sqeeze.shape)\n",
    "\n",
    "htmap_np_sqeeze\n",
    "\n"
   ]
  },
  {
   "cell_type": "code",
   "execution_count": 11,
   "metadata": {},
   "outputs": [],
   "source": [
    "# htmap_np_img = Image.fromarray(htmap_np_sqeeze)\n",
    "# htmap_np_img\n"
   ]
  },
  {
   "cell_type": "code",
   "execution_count": 12,
   "metadata": {},
   "outputs": [
    {
     "data": {
      "text/plain": [
       "torch.Size([224, 224])"
      ]
     },
     "execution_count": 12,
     "metadata": {},
     "output_type": "execute_result"
    }
   ],
   "source": [
    "onetake = grad_cam_map.squeeze()\n",
    "onetake.shape\n"
   ]
  },
  {
   "cell_type": "code",
   "execution_count": 13,
   "metadata": {},
   "outputs": [
    {
     "data": {
      "text/plain": [
       "tensor(0.3131, device='cuda:0')"
      ]
     },
     "execution_count": 13,
     "metadata": {},
     "output_type": "execute_result"
    }
   ],
   "source": [
    "onetake.mean()\n"
   ]
  },
  {
   "cell_type": "code",
   "execution_count": 14,
   "metadata": {},
   "outputs": [
    {
     "data": {
      "text/plain": [
       "tensor(0.1992, device='cuda:0')"
      ]
     },
     "execution_count": 14,
     "metadata": {},
     "output_type": "execute_result"
    }
   ],
   "source": [
    "onetake.std() "
   ]
  },
  {
   "cell_type": "code",
   "execution_count": 15,
   "metadata": {},
   "outputs": [
    {
     "name": "stdout",
     "output_type": "stream",
     "text": [
      "tensor(0.3131)\n",
      "tensor(0.1992)\n",
      "torch.Size([224, 224])\n",
      "[[  3   3   3 ...  73  73  73]\n",
      " [  3   3   3 ...  73  73  73]\n",
      " [  3   3   3 ...  73  73  73]\n",
      " ...\n",
      " [107 107 107 ...  67  67  67]\n",
      " [107 107 107 ...  67  67  67]\n",
      " [107 107 107 ...  67  67  67]]\n"
     ]
    }
   ],
   "source": [
    "heatmap_gray = onetake\n",
    "\n",
    "heatmap_gray_np= heatmap_gray.cpu()\n",
    "print(heatmap_gray_np.mean())\n",
    "print(heatmap_gray_np.std())\n",
    "\n",
    "print(heatmap_gray_np.shape)\n",
    "\n",
    "x = heatmap_gray_np[0,:]\n",
    "\n",
    "ht_np = np.uint8(heatmap_gray_np*255)\n",
    "\n",
    "y = ht_np[0,:]\n",
    "\n",
    "print(ht_np)\n",
    "\n",
    "# cv2.imshow('result',ht_np)\n",
    "# cv2.waitKey()\n",
    "# cv2.destroyAllWindows()\n"
   ]
  },
  {
   "cell_type": "code",
   "execution_count": 16,
   "metadata": {},
   "outputs": [
    {
     "data": {
      "text/plain": [
       "tensor([[0.0126, 0.0126, 0.0126,  ..., 0.2869, 0.2869, 0.2869],\n",
       "        [0.0126, 0.0126, 0.0126,  ..., 0.2869, 0.2869, 0.2869],\n",
       "        [0.0126, 0.0126, 0.0126,  ..., 0.2869, 0.2869, 0.2869],\n",
       "        ...,\n",
       "        [0.4222, 0.4222, 0.4222,  ..., 0.2643, 0.2643, 0.2643],\n",
       "        [0.4222, 0.4222, 0.4222,  ..., 0.2643, 0.2643, 0.2643],\n",
       "        [0.4222, 0.4222, 0.4222,  ..., 0.2643, 0.2643, 0.2643]])"
      ]
     },
     "execution_count": 16,
     "metadata": {},
     "output_type": "execute_result"
    }
   ],
   "source": [
    "heatmap_gray_np"
   ]
  },
  {
   "cell_type": "code",
   "execution_count": 17,
   "metadata": {},
   "outputs": [
    {
     "name": "stdout",
     "output_type": "stream",
     "text": [
      "224\n"
     ]
    },
    {
     "data": {
      "text/plain": [
       "tensor([0.0126, 0.0126, 0.0126, 0.0126, 0.0126, 0.0126, 0.0126, 0.0126, 0.0126,\n",
       "        0.0126, 0.0126, 0.0126, 0.0126, 0.0126, 0.0126, 0.0126, 0.0134, 0.0150,\n",
       "        0.0166, 0.0182, 0.0198, 0.0215, 0.0231, 0.0247, 0.0263, 0.0279, 0.0295,\n",
       "        0.0311, 0.0327, 0.0343, 0.0359, 0.0375, 0.0391, 0.0407, 0.0423, 0.0439,\n",
       "        0.0455, 0.0472, 0.0488, 0.0504, 0.0520, 0.0536, 0.0552, 0.0568, 0.0584,\n",
       "        0.0600, 0.0616, 0.0632, 0.0657, 0.0691, 0.0724, 0.0758, 0.0791, 0.0825,\n",
       "        0.0859, 0.0892, 0.0926, 0.0960, 0.0993, 0.1027, 0.1060, 0.1094, 0.1128,\n",
       "        0.1161, 0.1195, 0.1228, 0.1262, 0.1296, 0.1329, 0.1363, 0.1397, 0.1430,\n",
       "        0.1464, 0.1497, 0.1531, 0.1565, 0.1598, 0.1632, 0.1666, 0.1699, 0.1744,\n",
       "        0.1800, 0.1856, 0.1912, 0.1968, 0.2024, 0.2080, 0.2136, 0.2192, 0.2248,\n",
       "        0.2304, 0.2361, 0.2417, 0.2473, 0.2529, 0.2585, 0.2641, 0.2697, 0.2753,\n",
       "        0.2809, 0.2865, 0.2921, 0.2977, 0.3033, 0.3089, 0.3145, 0.3201, 0.3257,\n",
       "        0.3313, 0.3369, 0.3426, 0.3482, 0.3481, 0.3425, 0.3369, 0.3312, 0.3256,\n",
       "        0.3199, 0.3143, 0.3087, 0.3030, 0.2974, 0.2918, 0.2861, 0.2805, 0.2748,\n",
       "        0.2692, 0.2636, 0.2579, 0.2523, 0.2467, 0.2410, 0.2354, 0.2297, 0.2241,\n",
       "        0.2185, 0.2128, 0.2072, 0.2015, 0.1959, 0.1903, 0.1846, 0.1790, 0.1734,\n",
       "        0.1685, 0.1645, 0.1605, 0.1564, 0.1524, 0.1483, 0.1443, 0.1403, 0.1362,\n",
       "        0.1322, 0.1282, 0.1241, 0.1201, 0.1161, 0.1120, 0.1080, 0.1040, 0.0999,\n",
       "        0.0959, 0.0919, 0.0878, 0.0838, 0.0798, 0.0757, 0.0717, 0.0677, 0.0636,\n",
       "        0.0596, 0.0556, 0.0515, 0.0475, 0.0434, 0.0453, 0.0529, 0.0606, 0.0683,\n",
       "        0.0760, 0.0836, 0.0913, 0.0990, 0.1066, 0.1143, 0.1220, 0.1297, 0.1373,\n",
       "        0.1450, 0.1527, 0.1603, 0.1680, 0.1757, 0.1834, 0.1910, 0.1987, 0.2064,\n",
       "        0.2141, 0.2217, 0.2294, 0.2371, 0.2447, 0.2524, 0.2601, 0.2678, 0.2754,\n",
       "        0.2831, 0.2869, 0.2869, 0.2869, 0.2869, 0.2869, 0.2869, 0.2869, 0.2869,\n",
       "        0.2869, 0.2869, 0.2869, 0.2869, 0.2869, 0.2869, 0.2869, 0.2869])"
      ]
     },
     "execution_count": 17,
     "metadata": {},
     "output_type": "execute_result"
    }
   ],
   "source": [
    "print(len(x))\n",
    "x "
   ]
  },
  {
   "cell_type": "code",
   "execution_count": 18,
   "metadata": {},
   "outputs": [
    {
     "data": {
      "text/plain": [
       "tensor([ 3.2187,  3.2187,  3.2187,  3.2187,  3.2187,  3.2187,  3.2187,  3.2187,\n",
       "         3.2187,  3.2187,  3.2187,  3.2187,  3.2187,  3.2187,  3.2187,  3.2187,\n",
       "         3.4234,  3.8330,  4.2425,  4.6520,  5.0615,  5.4711,  5.8806,  6.2901,\n",
       "         6.6997,  7.1092,  7.5187,  7.9283,  8.3378,  8.7473,  9.1569,  9.5664,\n",
       "         9.9759, 10.3854, 10.7950, 11.2045, 11.6140, 12.0236, 12.4331, 12.8426,\n",
       "        13.2522, 13.6617, 14.0712, 14.4808, 14.8903, 15.2998, 15.7093, 16.1189,\n",
       "        16.7523, 17.6096, 18.4669, 19.3241, 20.1814, 21.0387, 21.8960, 22.7533,\n",
       "        23.6106, 24.4679, 25.3251, 26.1824, 27.0397, 27.8970, 28.7543, 29.6116,\n",
       "        30.4689, 31.3261, 32.1834, 33.0407, 33.8980, 34.7553, 35.6126, 36.4699,\n",
       "        37.3271, 38.1844, 39.0417, 39.8990, 40.7563, 41.6136, 42.4709, 43.3282,\n",
       "        44.4714, 45.9007, 47.3300, 48.7593, 50.1886, 51.6179, 53.0472, 54.4765,\n",
       "        55.9058, 57.3352, 58.7645, 60.1938, 61.6231, 63.0524, 64.4817, 65.9110,\n",
       "        67.3403, 68.7696, 70.1989, 71.6282, 73.0575, 74.4868, 75.9161, 77.3454,\n",
       "        78.7747, 80.2040, 81.6333, 83.0626, 84.4919, 85.9212, 87.3505, 88.7798,\n",
       "        88.7756, 87.3379, 85.9001, 84.4624, 83.0247, 81.5870, 80.1493, 78.7115,\n",
       "        77.2738, 75.8361, 74.3984, 72.9607, 71.5230, 70.0853, 68.6475, 67.2098,\n",
       "        65.7721, 64.3344, 62.8967, 61.4590, 60.0212, 58.5835, 57.1458, 55.7081,\n",
       "        54.2704, 52.8327, 51.3949, 49.9572, 48.5195, 47.0818, 45.6441, 44.2064,\n",
       "        42.9731, 41.9442, 40.9154, 39.8866, 38.8577, 37.8289, 36.8001, 35.7712,\n",
       "        34.7424, 33.7135, 32.6847, 31.6559, 30.6270, 29.5982, 28.5694, 27.5405,\n",
       "        26.5117, 25.4828, 24.4540, 23.4252, 22.3963, 21.3675, 20.3386, 19.3098,\n",
       "        18.2810, 17.2521, 16.2233, 15.1944, 14.1656, 13.1368, 12.1079, 11.0791,\n",
       "        11.5429, 13.4992, 15.4556, 17.4120, 19.3684, 21.3248, 23.2812, 25.2375,\n",
       "        27.1939, 29.1503, 31.1067, 33.0631, 35.0194, 36.9758, 38.9322, 40.8886,\n",
       "        42.8450, 44.8014, 46.7577, 48.7141, 50.6705, 52.6269, 54.5833, 56.5396,\n",
       "        58.4960, 60.4524, 62.4088, 64.3652, 66.3216, 68.2779, 70.2343, 72.1907,\n",
       "        73.1689, 73.1689, 73.1689, 73.1689, 73.1689, 73.1689, 73.1689, 73.1689,\n",
       "        73.1689, 73.1689, 73.1689, 73.1689, 73.1689, 73.1689, 73.1689, 73.1689])"
      ]
     },
     "execution_count": 18,
     "metadata": {},
     "output_type": "execute_result"
    }
   ],
   "source": [
    "x*255\n"
   ]
  },
  {
   "cell_type": "code",
   "execution_count": 19,
   "metadata": {},
   "outputs": [
    {
     "data": {
      "text/plain": [
       "array([ 3,  3,  3,  3,  3,  3,  3,  3,  3,  3,  3,  3,  3,  3,  3,  3,  3,\n",
       "        3,  4,  4,  5,  5,  5,  6,  6,  7,  7,  7,  8,  8,  9,  9,  9, 10,\n",
       "       10, 11, 11, 12, 12, 12, 13, 13, 14, 14, 14, 15, 15, 16, 16, 17, 18,\n",
       "       19, 20, 21, 21, 22, 23, 24, 25, 26, 27, 27, 28, 29, 30, 31, 32, 33,\n",
       "       33, 34, 35, 36, 37, 38, 39, 39, 40, 41, 42, 43, 44, 45, 47, 48, 50,\n",
       "       51, 53, 54, 55, 57, 58, 60, 61, 63, 64, 65, 67, 68, 70, 71, 73, 74,\n",
       "       75, 77, 78, 80, 81, 83, 84, 85, 87, 88, 88, 87, 85, 84, 83, 81, 80,\n",
       "       78, 77, 75, 74, 72, 71, 70, 68, 67, 65, 64, 62, 61, 60, 58, 57, 55,\n",
       "       54, 52, 51, 49, 48, 47, 45, 44, 42, 41, 40, 39, 38, 37, 36, 35, 34,\n",
       "       33, 32, 31, 30, 29, 28, 27, 26, 25, 24, 23, 22, 21, 20, 19, 18, 17,\n",
       "       16, 15, 14, 13, 12, 11, 11, 13, 15, 17, 19, 21, 23, 25, 27, 29, 31,\n",
       "       33, 35, 36, 38, 40, 42, 44, 46, 48, 50, 52, 54, 56, 58, 60, 62, 64,\n",
       "       66, 68, 70, 72, 73, 73, 73, 73, 73, 73, 73, 73, 73, 73, 73, 73, 73,\n",
       "       73, 73, 73], dtype=uint8)"
      ]
     },
     "execution_count": 19,
     "metadata": {},
     "output_type": "execute_result"
    }
   ],
   "source": [
    "y"
   ]
  },
  {
   "cell_type": "code",
   "execution_count": 20,
   "metadata": {},
   "outputs": [
    {
     "data": {
      "image/png": "[encoded data removed]",
      "text/plain": [
       "<PIL.Image.Image image mode=L size=224x224>"
      ]
     },
     "execution_count": 20,
     "metadata": {},
     "output_type": "execute_result"
    }
   ],
   "source": [
    "img_ht = Image.fromarray(ht_np)\n",
    "img_ht"
   ]
  },
  {
   "cell_type": "code",
   "execution_count": 21,
   "metadata": {},
   "outputs": [
    {
     "data": {
      "image/png": "[encoded data removed]",
      "text/plain": [
       "<PIL.JpegImagePlugin.JpegImageFile image mode=RGB size=224x224>"
      ]
     },
     "execution_count": 21,
     "metadata": {},
     "output_type": "execute_result"
    }
   ],
   "source": [
    "import os \n",
    "import glob # glob.glob 는 path를 리스트로 만들어 준다. \n",
    "from PIL import Image \n",
    "\n",
    "img_pth = './car_data/segmentation/002211.jpg'\n",
    "img = Image.open(img_pth)\n",
    "img"
   ]
  },
  {
   "cell_type": "code",
   "execution_count": 22,
   "metadata": {},
   "outputs": [
    {
     "data": {
      "text/plain": [
       "numpy.ndarray"
      ]
     },
     "execution_count": 22,
     "metadata": {},
     "output_type": "execute_result"
    }
   ],
   "source": [
    "img_np = np.asarray(img)\n",
    "type(img_np)"
   ]
  },
  {
   "cell_type": "code",
   "execution_count": 23,
   "metadata": {},
   "outputs": [
    {
     "data": {
      "text/plain": [
       "-13186.033134003552"
      ]
     },
     "execution_count": 23,
     "metadata": {},
     "output_type": "execute_result"
    }
   ],
   "source": [
    "from CustomFuction.CrossEntropy import CompareFuc\n",
    "\n",
    "cp = CompareFuc(onetake,img_np)\n",
    "cp.CrossEntropy_img()\n"
   ]
  },
  {
   "cell_type": "code",
   "execution_count": 24,
   "metadata": {},
   "outputs": [
    {
     "data": {
      "text/plain": [
       "3577.6326"
      ]
     },
     "execution_count": 24,
     "metadata": {},
     "output_type": "execute_result"
    }
   ],
   "source": [
    "cp.CrossEntropy_np()\n"
   ]
  },
  {
   "cell_type": "code",
   "execution_count": 25,
   "metadata": {},
   "outputs": [
    {
     "name": "stdout",
     "output_type": "stream",
     "text": [
      "shape :  (224, 224)\n"
     ]
    },
    {
     "data": {
      "text/plain": [
       "-488269"
      ]
     },
     "execution_count": 25,
     "metadata": {},
     "output_type": "execute_result"
    }
   ],
   "source": [
    "cp.intersection()"
   ]
  },
  {
   "cell_type": "code",
   "execution_count": null,
   "metadata": {},
   "outputs": [],
   "source": [
    "cp.intersection_img()"
   ]
  },
  {
   "cell_type": "code",
   "execution_count": 26,
   "metadata": {},
   "outputs": [
    {
     "ename": "SyntaxError",
     "evalue": "invalid syntax (1833942788.py, line 1)",
     "output_type": "error",
     "traceback": [
      "\u001b[1;36m  Input \u001b[1;32mIn [26]\u001b[1;36m\u001b[0m\n\u001b[1;33m    np.log(/np.log(255)\u001b[0m\n\u001b[1;37m           ^\u001b[0m\n\u001b[1;31mSyntaxError\u001b[0m\u001b[1;31m:\u001b[0m invalid syntax\n"
     ]
    }
   ],
   "source": [
    "np.log(/np.log(255)"
   ]
  },
  {
   "cell_type": "code",
   "execution_count": null,
   "metadata": {},
   "outputs": [
    {
     "name": "stdout",
     "output_type": "stream",
     "text": [
      "[  0   0   0   0   0   0   0   0   0   0   0   0   0   0   0   0   0   0\n",
      "   0   0   0   0   0   0   0   0   0   0   0   0   0   0   1   4   0   2\n",
      "   0   2   0 255 255 255 255 255 255 255 255 255 255 255 255 255 255 255\n",
      " 255 255 255 255 255 255 255 255 255 255 255 255 255 255 255 255 255 255\n",
      " 255 255 255 255 255 255 255 255 255 255 255 255 255 255 255 255 255 255\n",
      " 255 255 255 255 255 255 255 255 255 255 255 255 255 255 255 255 255 255\n",
      " 255 255 255 255 255 255 255 255 255 255 255 255 255 255 255 255 255 255\n",
      " 255 255 255 255 255 255 255 255 255 255 255 255 255 255 255 255 255 255\n",
      " 255 255 255 255 255 255 255 255 255 255 255 255 255 255 255 255 255 255\n",
      " 255 255 255 255 255 255 255 253 254 255   0   3   2   0   0   0   0   0\n",
      "   0   0   0   0   0   0   0   0   0   0   0   0   0   0   0   0   0   0\n",
      "   0   0   0   0   0   0   0   0   0   0   0   0   0   0   0   0   0   0\n",
      "   0   0   0   0   0   0   0   0]\n",
      "(224, 224, 3)\n"
     ]
    }
   ],
   "source": [
    "img_np = np.array(img)\n",
    "\n",
    "r_img = img_np[:,:,2]\n",
    "print(r_img[125,:])\n",
    "print(img_np.shape)\n"
   ]
  },
  {
   "cell_type": "code",
   "execution_count": null,
   "metadata": {},
   "outputs": [
    {
     "data": {
      "text/plain": [
       "array([[-1, -1, -1, ..., -1, -1, -1],\n",
       "       [-1, -1, -1, ..., -1, -1, -1],\n",
       "       [-1, -1, -1, ..., -1, -1, -1],\n",
       "       ...,\n",
       "       [-1, -1, -1, ..., -1, -1, -1],\n",
       "       [-1, -1, -1, ..., -1, -1, -1],\n",
       "       [-1, -1, -1, ..., -1, -1, -1]])"
      ]
     },
     "execution_count": 29,
     "metadata": {},
     "output_type": "execute_result"
    }
   ],
   "source": [
    "np.where(r_img == 0,-1,1) "
   ]
  },
  {
   "cell_type": "code",
   "execution_count": null,
   "metadata": {},
   "outputs": [
    {
     "name": "stdout",
     "output_type": "stream",
     "text": [
      "tensor([[[[1., 1., 1., 1.],\n",
      "          [1., 1., 1., 1.],\n",
      "          [1., 1., 1., 1.],\n",
      "          [1., 1., 1., 1.]]]])\n"
     ]
    }
   ],
   "source": [
    "tensor1 = torch.ones(1,1,4,4)\n",
    "print(tensor1)"
   ]
  },
  {
   "cell_type": "code",
   "execution_count": null,
   "metadata": {},
   "outputs": [
    {
     "name": "stdout",
     "output_type": "stream",
     "text": [
      "<class 'torch.Tensor'>\n",
      "torch.Size([4, 4])\n"
     ]
    },
    {
     "data": {
      "text/plain": [
       "tensor([[255., 255., 255., 255.],\n",
       "        [255., 255., 255., 255.],\n",
       "        [255., 255., 255., 255.],\n",
       "        [255., 255., 255., 255.]])"
      ]
     },
     "execution_count": 28,
     "metadata": {},
     "output_type": "execute_result"
    }
   ],
   "source": [
    "tensor1_255 = 255*tensor1.squeeze()\n",
    "print(type(tensor1_255))\n",
    "print(tensor1_255.shape)\n",
    "tensor1_255\n"
   ]
  },
  {
   "cell_type": "code",
   "execution_count": null,
   "metadata": {},
   "outputs": [
    {
     "name": "stdout",
     "output_type": "stream",
     "text": [
      "<class 'numpy.ndarray'>\n",
      "(4, 4)\n"
     ]
    },
    {
     "data": {
      "text/plain": [
       "array([[255, 255, 255, 255],\n",
       "       [255, 255, 255, 255],\n",
       "       [255, 255, 255, 255],\n",
       "       [255, 255, 255, 255]], dtype=uint8)"
      ]
     },
     "execution_count": 29,
     "metadata": {},
     "output_type": "execute_result"
    }
   ],
   "source": [
    "tensor1_255_np = np.uint8(tensor1_255)\n",
    "\n",
    "print(type(tensor1_255_np))\n",
    "print(tensor1_255_np.shape)\n",
    "tensor1_255_np"
   ]
  },
  {
   "cell_type": "code",
   "execution_count": null,
   "metadata": {},
   "outputs": [],
   "source": [
    "# cv2.imshow('testimg',tensor1_255_np)\n",
    "# cv2.waitKey()\n",
    "# cv2.destroyAllWindows()"
   ]
  },
  {
   "cell_type": "code",
   "execution_count": null,
   "metadata": {},
   "outputs": [
    {
     "data": {
      "text/plain": [
       "torch.Size([3, 224, 224])"
      ]
     },
     "execution_count": 31,
     "metadata": {},
     "output_type": "execute_result"
    }
   ],
   "source": [
    "from PIL import Image\n",
    "\n",
    "\n",
    "seg_img_pix = Image.open('./car_data/segmentation/002211.jpg')\n",
    "\n",
    "seg_img = torch.from_numpy(np.asarray(seg_img_pix)).permute(2,0,1).float()\n",
    "\n",
    "seg_img.shape\n"
   ]
  },
  {
   "cell_type": "code",
   "execution_count": null,
   "metadata": {},
   "outputs": [
    {
     "data": {
      "text/plain": [
       "torch.Size([224, 224])"
      ]
     },
     "execution_count": 32,
     "metadata": {},
     "output_type": "execute_result"
    }
   ],
   "source": [
    "seg_img[1].shape"
   ]
  },
  {
   "cell_type": "code",
   "execution_count": null,
   "metadata": {},
   "outputs": [],
   "source": [
    "# import os \n",
    "# import glob\n",
    "# import numpy as np \n",
    "# grad_cam_list = [] \n",
    "# text_dir = glob.glob('./txt_result_grad_cam/*.txt')\n",
    "# for i in text_dir:\n",
    "#     f = open(i,'r')\n",
    "    \n",
    "#     grad_cam_list.append(f.read())\n",
    "# f.close()"
   ]
  },
  {
   "cell_type": "code",
   "execution_count": null,
   "metadata": {},
   "outputs": [
    {
     "ename": "NameError",
     "evalue": "name 'grad_cam_list' is not defined",
     "output_type": "error",
     "traceback": [
      "\u001b[1;31m---------------------------------------------------------------------------\u001b[0m",
      "\u001b[1;31mNameError\u001b[0m                                 Traceback (most recent call last)",
      "\u001b[1;32mc:\\Users\\mjy22\\Desktop\\grad_result\\cifar10.ipynb 셀 34\u001b[0m in \u001b[0;36m<cell line: 1>\u001b[1;34m()\u001b[0m\n\u001b[1;32m----> <a href='vscode-notebook-cell:/c%3A/Users/mjy22/Desktop/grad_result/cifar10.ipynb#X43sZmlsZQ%3D%3D?line=0'>1</a>\u001b[0m np\u001b[39m.\u001b[39masarray(grad_cam_list)\u001b[39m.\u001b[39mshape\n",
      "\u001b[1;31mNameError\u001b[0m: name 'grad_cam_list' is not defined"
     ]
    }
   ],
   "source": [
    "np.asarray(grad_cam_list).shape"
   ]
  },
  {
   "cell_type": "code",
   "execution_count": null,
   "metadata": {},
   "outputs": [
    {
     "data": {
      "text/plain": [
       "array(['[[0.         0.         0.         ... 0.00500743 0.00500743 0.00500743]\\n [0.         0.         0.         ... 0.00500743 0.00500743 0.00500743]\\n [0.         0.         0.         ... 0.00500743 0.00500743 0.00500743]\\n ...\\n [0.24338633 0.24338633 0.24338633 ... 0.188556   0.188556   0.188556  ]\\n [0.24338633 0.24338633 0.24338633 ... 0.188556   0.188556   0.188556  ]\\n [0.24338633 0.24338633 0.24338633 ... 0.188556   0.188556   0.188556  ]]',\n",
       "       '[[0.34243792 0.34243792 0.34243792 ... 0.2134192  0.2134192  0.2134192 ]\\n [0.34243792 0.34243792 0.34243792 ... 0.2134192  0.2134192  0.2134192 ]\\n [0.34243792 0.34243792 0.34243792 ... 0.2134192  0.2134192  0.2134192 ]\\n ...\\n [0.26394114 0.26394114 0.26394114 ... 0.195671   0.195671   0.195671  ]\\n [0.26394114 0.26394114 0.26394114 ... 0.195671   0.195671   0.195671  ]\\n [0.26394114 0.26394114 0.26394114 ... 0.195671   0.195671   0.195671  ]]',\n",
       "       '[[0.41637635 0.41637635 0.41637635 ... 0.         0.         0.        ]\\n [0.41637635 0.41637635 0.41637635 ... 0.         0.         0.        ]\\n [0.41637635 0.41637635 0.41637635 ... 0.         0.         0.        ]\\n ...\\n [0.25093174 0.25093174 0.25093174 ... 0.286536   0.286536   0.286536  ]\\n [0.25093174 0.25093174 0.25093174 ... 0.286536   0.286536   0.286536  ]\\n [0.25093174 0.25093174 0.25093174 ... 0.286536   0.286536   0.286536  ]]',\n",
       "       '[[0.59396154 0.59396154 0.59396154 ... 0.40025598 0.40025598 0.40025598]\\n [0.59396154 0.59396154 0.59396154 ... 0.40025598 0.40025598 0.40025598]\\n [0.59396154 0.59396154 0.59396154 ... 0.40025598 0.40025598 0.40025598]\\n ...\\n [0.42699322 0.42699322 0.42699322 ... 0.9801202  0.9801202  0.9801202 ]\\n [0.42699322 0.42699322 0.42699322 ... 0.9801202  0.9801202  0.9801202 ]\\n [0.42699322 0.42699322 0.42699322 ... 0.9801202  0.9801202  0.9801202 ]]',\n",
       "       '[[0.15459353 0.15459353 0.15459353 ... 0.04168546 0.04168546 0.04168546]\\n [0.15459353 0.15459353 0.15459353 ... 0.04168546 0.04168546 0.04168546]\\n [0.15459353 0.15459353 0.15459353 ... 0.04168546 0.04168546 0.04168546]\\n ...\\n [0.17268603 0.17268603 0.17268603 ... 0.35821286 0.35821286 0.35821286]\\n [0.17268603 0.17268603 0.17268603 ... 0.35821286 0.35821286 0.35821286]\\n [0.17268603 0.17268603 0.17268603 ... 0.35821286 0.35821286 0.35821286]]',\n",
       "       '[[0.         0.         0.         ... 0.08668144 0.08668144 0.08668144]\\n [0.         0.         0.         ... 0.08668144 0.08668144 0.08668144]\\n [0.         0.         0.         ... 0.08668144 0.08668144 0.08668144]\\n ...\\n [0.         0.         0.         ... 0.04992137 0.04992137 0.04992137]\\n [0.         0.         0.         ... 0.04992137 0.04992137 0.04992137]\\n [0.         0.         0.         ... 0.04992137 0.04992137 0.04992137]]',\n",
       "       '[[0.15711151 0.15711151 0.15711151 ... 0.01523362 0.01523362 0.01523362]\\n [0.15711151 0.15711151 0.15711151 ... 0.01523362 0.01523362 0.01523362]\\n [0.15711151 0.15711151 0.15711151 ... 0.01523362 0.01523362 0.01523362]\\n ...\\n [0.28003556 0.28003556 0.28003556 ... 0.31454352 0.31454352 0.31454352]\\n [0.28003556 0.28003556 0.28003556 ... 0.31454352 0.31454352 0.31454352]\\n [0.28003556 0.28003556 0.28003556 ... 0.31454352 0.31454352 0.31454352]]',\n",
       "       '[[0.         0.         0.         ... 0.         0.         0.        ]\\n [0.         0.         0.         ... 0.         0.         0.        ]\\n [0.         0.         0.         ... 0.         0.         0.        ]\\n ...\\n [0.2690732  0.2690732  0.2690732  ... 0.23500524 0.23500524 0.23500524]\\n [0.2690732  0.2690732  0.2690732  ... 0.23500524 0.23500524 0.23500524]\\n [0.2690732  0.2690732  0.2690732  ... 0.23500524 0.23500524 0.23500524]]',\n",
       "       '[[0.16291675 0.16291675 0.16291675 ... 0.19065171 0.19065171 0.19065171]\\n [0.16291675 0.16291675 0.16291675 ... 0.19065171 0.19065171 0.19065171]\\n [0.16291675 0.16291675 0.16291675 ... 0.19065171 0.19065171 0.19065171]\\n ...\\n [0.4647854  0.4647854  0.4647854  ... 0.26841396 0.26841396 0.26841396]\\n [0.4647854  0.4647854  0.4647854  ... 0.26841396 0.26841396 0.26841396]\\n [0.4647854  0.4647854  0.4647854  ... 0.26841396 0.26841396 0.26841396]]',\n",
       "       '[[0.04041149 0.04041149 0.04041149 ... 0.         0.         0.        ]\\n [0.04041149 0.04041149 0.04041149 ... 0.         0.         0.        ]\\n [0.04041149 0.04041149 0.04041149 ... 0.         0.         0.        ]\\n ...\\n [0.05339509 0.05339509 0.05339509 ... 0.11409778 0.11409778 0.11409778]\\n [0.05339509 0.05339509 0.05339509 ... 0.11409778 0.11409778 0.11409778]\\n [0.05339509 0.05339509 0.05339509 ... 0.11409778 0.11409778 0.11409778]]',\n",
       "       '[[0.39757916 0.39757916 0.39757916 ... 0.         0.         0.        ]\\n [0.39757916 0.39757916 0.39757916 ... 0.         0.         0.        ]\\n [0.39757916 0.39757916 0.39757916 ... 0.         0.         0.        ]\\n ...\\n [0.34853387 0.34853387 0.34853387 ... 0.03632153 0.03632153 0.03632153]\\n [0.34853387 0.34853387 0.34853387 ... 0.03632153 0.03632153 0.03632153]\\n [0.34853387 0.34853387 0.34853387 ... 0.03632153 0.03632153 0.03632153]]',\n",
       "       '[[0.33615652 0.33615652 0.33615652 ... 0.01060541 0.01060541 0.01060541]\\n [0.33615652 0.33615652 0.33615652 ... 0.01060541 0.01060541 0.01060541]\\n [0.33615652 0.33615652 0.33615652 ... 0.01060541 0.01060541 0.01060541]\\n ...\\n [0.26110372 0.26110372 0.26110372 ... 0.10822496 0.10822496 0.10822496]\\n [0.26110372 0.26110372 0.26110372 ... 0.10822496 0.10822496 0.10822496]\\n [0.26110372 0.26110372 0.26110372 ... 0.10822496 0.10822496 0.10822496]]',\n",
       "       '[[0.17029369 0.17029369 0.17029369 ... 0.19524992 0.19524992 0.19524992]\\n [0.17029369 0.17029369 0.17029369 ... 0.19524992 0.19524992 0.19524992]\\n [0.17029369 0.17029369 0.17029369 ... 0.19524992 0.19524992 0.19524992]\\n ...\\n [0.34158927 0.34158927 0.34158927 ... 0.17443772 0.17443772 0.17443772]\\n [0.34158927 0.34158927 0.34158927 ... 0.17443772 0.17443772 0.17443772]\\n [0.34158927 0.34158927 0.34158927 ... 0.17443772 0.17443772 0.17443772]]',\n",
       "       '[[0.13054259 0.13054259 0.13054259 ... 0.17472482 0.17472482 0.17472482]\\n [0.13054259 0.13054259 0.13054259 ... 0.17472482 0.17472482 0.17472482]\\n [0.13054259 0.13054259 0.13054259 ... 0.17472482 0.17472482 0.17472482]\\n ...\\n [0.07463521 0.07463521 0.07463521 ... 0.07730129 0.07730129 0.07730129]\\n [0.07463521 0.07463521 0.07463521 ... 0.07730129 0.07730129 0.07730129]\\n [0.07463521 0.07463521 0.07463521 ... 0.07730129 0.07730129 0.07730129]]',\n",
       "       '[[0.26568046 0.26568046 0.26568046 ... 0.28564194 0.28564194 0.28564194]\\n [0.26568046 0.26568046 0.26568046 ... 0.28564194 0.28564194 0.28564194]\\n [0.26568046 0.26568046 0.26568046 ... 0.28564194 0.28564194 0.28564194]\\n ...\\n [0.17589621 0.17589621 0.17589621 ... 0.2272431  0.2272431  0.2272431 ]\\n [0.17589621 0.17589621 0.17589621 ... 0.2272431  0.2272431  0.2272431 ]\\n [0.17589621 0.17589621 0.17589621 ... 0.2272431  0.2272431  0.2272431 ]]',\n",
       "       '[[0.12620956 0.12620956 0.12620956 ... 0.11843675 0.11843675 0.11843675]\\n [0.12620956 0.12620956 0.12620956 ... 0.11843675 0.11843675 0.11843675]\\n [0.12620956 0.12620956 0.12620956 ... 0.11843675 0.11843675 0.11843675]\\n ...\\n [0.1246759  0.1246759  0.1246759  ... 0.16017334 0.16017334 0.16017334]\\n [0.1246759  0.1246759  0.1246759  ... 0.16017334 0.16017334 0.16017334]\\n [0.1246759  0.1246759  0.1246759  ... 0.16017334 0.16017334 0.16017334]]',\n",
       "       '[[0.1377625  0.1377625  0.1377625  ... 0.08531499 0.08531499 0.08531499]\\n [0.1377625  0.1377625  0.1377625  ... 0.08531499 0.08531499 0.08531499]\\n [0.1377625  0.1377625  0.1377625  ... 0.08531499 0.08531499 0.08531499]\\n ...\\n [0.5599164  0.5599164  0.5599164  ... 0.4000479  0.4000479  0.4000479 ]\\n [0.5599164  0.5599164  0.5599164  ... 0.4000479  0.4000479  0.4000479 ]\\n [0.5599164  0.5599164  0.5599164  ... 0.4000479  0.4000479  0.4000479 ]]',\n",
       "       '[[0.         0.         0.         ... 0.19228148 0.19228148 0.19228148]\\n [0.         0.         0.         ... 0.19228148 0.19228148 0.19228148]\\n [0.         0.         0.         ... 0.19228148 0.19228148 0.19228148]\\n ...\\n [0.19598521 0.19598521 0.19598521 ... 0.2246498  0.2246498  0.2246498 ]\\n [0.19598521 0.19598521 0.19598521 ... 0.2246498  0.2246498  0.2246498 ]\\n [0.19598521 0.19598521 0.19598521 ... 0.2246498  0.2246498  0.2246498 ]]',\n",
       "       '[[0.37032893 0.37032893 0.37032893 ... 0.16510868 0.16510868 0.16510868]\\n [0.37032893 0.37032893 0.37032893 ... 0.16510868 0.16510868 0.16510868]\\n [0.37032893 0.37032893 0.37032893 ... 0.16510868 0.16510868 0.16510868]\\n ...\\n [0.16575356 0.16575356 0.16575356 ... 0.36037073 0.36037073 0.36037073]\\n [0.16575356 0.16575356 0.16575356 ... 0.36037073 0.36037073 0.36037073]\\n [0.16575356 0.16575356 0.16575356 ... 0.36037073 0.36037073 0.36037073]]',\n",
       "       '[[0.2214937  0.2214937  0.2214937  ... 0.4177208  0.4177208  0.4177208 ]\\n [0.2214937  0.2214937  0.2214937  ... 0.4177208  0.4177208  0.4177208 ]\\n [0.2214937  0.2214937  0.2214937  ... 0.4177208  0.4177208  0.4177208 ]\\n ...\\n [0.02991067 0.02991067 0.02991067 ... 0.         0.         0.        ]\\n [0.02991067 0.02991067 0.02991067 ... 0.         0.         0.        ]\\n [0.02991067 0.02991067 0.02991067 ... 0.         0.         0.        ]]',\n",
       "       '[[0.         0.         0.         ... 0.         0.         0.        ]\\n [0.         0.         0.         ... 0.         0.         0.        ]\\n [0.         0.         0.         ... 0.         0.         0.        ]\\n ...\\n [0.05329866 0.05329866 0.05329866 ... 0.08409645 0.08409645 0.08409645]\\n [0.05329866 0.05329866 0.05329866 ... 0.08409645 0.08409645 0.08409645]\\n [0.05329866 0.05329866 0.05329866 ... 0.08409645 0.08409645 0.08409645]]',\n",
       "       '[[0.186539   0.186539   0.186539   ... 0.03073161 0.03073161 0.03073161]\\n [0.186539   0.186539   0.186539   ... 0.03073161 0.03073161 0.03073161]\\n [0.186539   0.186539   0.186539   ... 0.03073161 0.03073161 0.03073161]\\n ...\\n [0.24170452 0.24170452 0.24170452 ... 0.33229232 0.33229232 0.33229232]\\n [0.24170452 0.24170452 0.24170452 ... 0.33229232 0.33229232 0.33229232]\\n [0.24170452 0.24170452 0.24170452 ... 0.33229232 0.33229232 0.33229232]]',\n",
       "       '[[0.12466968 0.12466968 0.12466968 ... 0.15740119 0.15740119 0.15740119]\\n [0.12466968 0.12466968 0.12466968 ... 0.15740119 0.15740119 0.15740119]\\n [0.12466968 0.12466968 0.12466968 ... 0.15740119 0.15740119 0.15740119]\\n ...\\n [0.25685823 0.25685823 0.25685823 ... 0.21791643 0.21791643 0.21791643]\\n [0.25685823 0.25685823 0.25685823 ... 0.21791643 0.21791643 0.21791643]\\n [0.25685823 0.25685823 0.25685823 ... 0.21791643 0.21791643 0.21791643]]',\n",
       "       '[[0.01262219 0.01262219 0.01262219 ... 0.28693682 0.28693682 0.28693682]\\n [0.01262219 0.01262219 0.01262219 ... 0.28693682 0.28693682 0.28693682]\\n [0.01262219 0.01262219 0.01262219 ... 0.28693682 0.28693682 0.28693682]\\n ...\\n [0.4222462  0.4222462  0.4222462  ... 0.26425016 0.26425016 0.26425016]\\n [0.4222462  0.4222462  0.4222462  ... 0.26425016 0.26425016 0.26425016]\\n [0.4222462  0.4222462  0.4222462  ... 0.26425016 0.26425016 0.26425016]]'],\n",
       "      dtype='<U443')"
      ]
     },
     "execution_count": 27,
     "metadata": {},
     "output_type": "execute_result"
    }
   ],
   "source": [
    "np.asarray(grad_cam_list)"
   ]
  },
  {
   "cell_type": "code",
   "execution_count": null,
   "metadata": {},
   "outputs": [],
   "source": []
  },
  {
   "cell_type": "code",
   "execution_count": null,
   "metadata": {},
   "outputs": [],
   "source": []
  }
 ],
 "metadata": {
  "kernelspec": {
   "display_name": "Python 3.10.4 ('pytorch')",
   "language": "python",
   "name": "python3"
  },
  "language_info": {
   "codemirror_mode": {
    "name": "ipython",
    "version": 3
   },
   "file_extension": ".py",
   "mimetype": "text/x-python",
   "name": "python",
   "nbconvert_exporter": "python",
   "pygments_lexer": "ipython3",
   "version": "3.10.4"
  },
  "orig_nbformat": 4,
  "vscode": {
   "interpreter": {
    "hash": "ee22937dcbee3f51f6aed73815f5ebb41f6c896aa5905ae71496d4374e7de50a"
   }
  }
 },
 "nbformat": 4,
 "nbformat_minor": 2
}
