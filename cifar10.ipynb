{
 "cells": [
  {
   "cell_type": "code",
   "execution_count": 1,
   "metadata": {},
   "outputs": [],
   "source": [
    "import torchvision.models as models\n",
    "import torch.nn as nn\n",
    "import torch\n",
    "import os\n",
    "import cv2\n",
    "from PIL import Image \n",
    "import glob\n",
    "import torchvision\n",
    "import torchvision.transforms as transforms\n",
    "import datetime\n",
    "import numpy as np\n",
    "import torch.nn.functional as F\n",
    "import matplotlib.pyplot as plt\n",
    "import matplotlib\n",
    "from torchvision.utils import make_grid, save_image\n",
    "\n",
    "\n",
    "\n",
    "from Grad_CAM.img_norm import Normalize, transform_img\n",
    "from Grad_CAM.model_value import mv"
   ]
  },
  {
   "cell_type": "code",
   "execution_count": 2,
   "metadata": {},
   "outputs": [
    {
     "name": "stderr",
     "output_type": "stream",
     "text": [
      "c:\\Users\\mjy22\\anaconda3\\envs\\pytorch\\lib\\site-packages\\torchvision\\models\\_utils.py:208: UserWarning: The parameter 'pretrained' is deprecated since 0.13 and will be removed in 0.15, please use 'weights' instead.\n",
      "  warnings.warn(\n",
      "c:\\Users\\mjy22\\anaconda3\\envs\\pytorch\\lib\\site-packages\\torchvision\\models\\_utils.py:223: UserWarning: Arguments other than a weight enum or `None` for 'weights' are deprecated since 0.13 and will be removed in 0.15. The current behavior is equivalent to passing `weights=VGG16_Weights.IMAGENET1K_V1`. You can also use `weights=VGG16_Weights.DEFAULT` to get the most up-to-date weights.\n",
      "  warnings.warn(msg)\n"
     ]
    },
    {
     "name": "stdout",
     "output_type": "stream",
     "text": [
      "VGG(\n",
      "  (features): Sequential(\n",
      "    (0): Conv2d(3, 64, kernel_size=(3, 3), stride=(1, 1), padding=(1, 1))\n",
      "    (1): ReLU(inplace=True)\n",
      "    (2): Conv2d(64, 64, kernel_size=(3, 3), stride=(1, 1), padding=(1, 1))\n",
      "    (3): ReLU(inplace=True)\n",
      "    (4): MaxPool2d(kernel_size=2, stride=2, padding=0, dilation=1, ceil_mode=False)\n",
      "    (5): Conv2d(64, 128, kernel_size=(3, 3), stride=(1, 1), padding=(1, 1))\n",
      "    (6): ReLU(inplace=True)\n",
      "    (7): Conv2d(128, 128, kernel_size=(3, 3), stride=(1, 1), padding=(1, 1))\n",
      "    (8): ReLU(inplace=True)\n",
      "    (9): MaxPool2d(kernel_size=2, stride=2, padding=0, dilation=1, ceil_mode=False)\n",
      "    (10): Conv2d(128, 256, kernel_size=(3, 3), stride=(1, 1), padding=(1, 1))\n",
      "    (11): ReLU(inplace=True)\n",
      "    (12): Conv2d(256, 256, kernel_size=(3, 3), stride=(1, 1), padding=(1, 1))\n",
      "    (13): ReLU(inplace=True)\n",
      "    (14): Conv2d(256, 256, kernel_size=(3, 3), stride=(1, 1), padding=(1, 1))\n",
      "    (15): ReLU(inplace=True)\n",
      "    (16): MaxPool2d(kernel_size=2, stride=2, padding=0, dilation=1, ceil_mode=False)\n",
      "    (17): Conv2d(256, 512, kernel_size=(3, 3), stride=(1, 1), padding=(1, 1))\n",
      "    (18): ReLU(inplace=True)\n",
      "    (19): Conv2d(512, 512, kernel_size=(3, 3), stride=(1, 1), padding=(1, 1))\n",
      "    (20): ReLU(inplace=True)\n",
      "    (21): Conv2d(512, 512, kernel_size=(3, 3), stride=(1, 1), padding=(1, 1))\n",
      "    (22): ReLU(inplace=True)\n",
      "    (23): MaxPool2d(kernel_size=2, stride=2, padding=0, dilation=1, ceil_mode=False)\n",
      "    (24): Conv2d(512, 512, kernel_size=(3, 3), stride=(1, 1), padding=(1, 1))\n",
      "    (25): ReLU(inplace=True)\n",
      "    (26): Conv2d(512, 512, kernel_size=(3, 3), stride=(1, 1), padding=(1, 1))\n",
      "    (27): ReLU(inplace=True)\n",
      "    (28): Conv2d(512, 512, kernel_size=(3, 3), stride=(1, 1), padding=(1, 1))\n",
      "    (29): ReLU(inplace=True)\n",
      "    (30): MaxPool2d(kernel_size=2, stride=2, padding=0, dilation=1, ceil_mode=False)\n",
      "  )\n",
      "  (avgpool): AdaptiveAvgPool2d(output_size=(7, 7))\n",
      "  (classifier): Sequential(\n",
      "    (0): Linear(in_features=25088, out_features=4096, bias=True)\n",
      "    (1): ReLU(inplace=True)\n",
      "    (2): Dropout(p=0.5, inplace=False)\n",
      "    (3): Linear(in_features=4096, out_features=4096, bias=True)\n",
      "    (4): ReLU(inplace=True)\n",
      "    (5): Dropout(p=0.5, inplace=False)\n",
      "    (6): Linear(in_features=4096, out_features=1000, bias=True)\n",
      "  )\n",
      ")\n"
     ]
    }
   ],
   "source": [
    "use_pretrained=True # 학습 된 파라미터 사용\n",
    "net = models.vgg16(pretrained=use_pretrained).cuda()\n",
    "\n",
    "# 모델 네트워크 구성 출력\n",
    "print(net)"
   ]
  },
  {
   "cell_type": "code",
   "execution_count": 3,
   "metadata": {},
   "outputs": [
    {
     "name": "stdout",
     "output_type": "stream",
     "text": [
      "features\n",
      "avgpool\n",
      "classifier\n"
     ]
    }
   ],
   "source": [
    "for i in net._modules.items():\n",
    "    print(i[0])\n",
    "    "
   ]
  },
  {
   "cell_type": "code",
   "execution_count": 4,
   "metadata": {},
   "outputs": [
    {
     "data": {
      "text/plain": [
       "odict_keys(['features', 'avgpool', 'classifier'])"
      ]
     },
     "execution_count": 4,
     "metadata": {},
     "output_type": "execute_result"
    }
   ],
   "source": [
    "net._modules.keys()"
   ]
  },
  {
   "cell_type": "code",
   "execution_count": 5,
   "metadata": {},
   "outputs": [],
   "source": [
    "def norm_preprocess(img_pth,means,stds): # img_pth 주면 img -> torch tensor type (1,3,224,224) \n",
    "    # means = [r,g,b] / std = [r,g,b]\n",
    "    p_img = Image.open(img_pth) \n",
    "    tensor_img = torch.from_numpy(np.asarray(p_img)).permute(2,0,1).unsqueeze(0).float().div(255).cuda()\n",
    "    # vgg -> 1,3,224,224\n",
    "    # alex -> 1,3,227,227\n",
    "    if tensor_img != (1,3,224,224) :\n",
    "        tensor_img = F.interpolate(tensor_img,size=(224,224),mode='bilinear', align_corners=False)\n",
    "\n",
    "    norm_mean_std = Normalize(mean=means, std=stds)\n",
    "    nt_img = norm_mean_std(tensor_img)\n",
    "\n",
    "    return nt_img , tensor_img"
   ]
  },
  {
   "cell_type": "code",
   "execution_count": 6,
   "metadata": {},
   "outputs": [],
   "source": [
    "# !wget https://raw.githubusercontent.com/pytorch/hub/master/imagenet_classes.txt"
   ]
  },
  {
   "cell_type": "code",
   "execution_count": 7,
   "metadata": {},
   "outputs": [
    {
     "data": {
      "text/plain": [
       "1000"
      ]
     },
     "execution_count": 7,
     "metadata": {},
     "output_type": "execute_result"
    }
   ],
   "source": [
    "label_list = [] \n",
    "f = open('./imagenet_classes.txt','r')\n",
    "while True:\n",
    "    line = f.readline()\n",
    "    if not line: break\n",
    "    label_list.append(line.split('\\n')[0])\n",
    "f.close()\n",
    "\n",
    "len(label_list)\n"
   ]
  },
  {
   "cell_type": "code",
   "execution_count": 8,
   "metadata": {},
   "outputs": [
    {
     "name": "stdout",
     "output_type": "stream",
     "text": [
      "./car_data/test_data\\000099.jpg\n"
     ]
    }
   ],
   "source": [
    "DEVICE = 'cuda' if torch.cuda.is_available() else 'cpu'\n",
    "img_pth = glob.glob('./car_data/test_data/*.jpg')\n",
    "model_pth = glob.glob('./vgg_pt/*pt')\n",
    "save_pth = './car_data/grad_cam_result/vgg_pt/sportcar/'\n",
    "label_idx = 817\n",
    "print(img_pth[0])\n"
   ]
  },
  {
   "cell_type": "code",
   "execution_count": 9,
   "metadata": {},
   "outputs": [
    {
     "name": "stderr",
     "output_type": "stream",
     "text": [
      "C:\\Users\\mjy22\\AppData\\Local\\Temp\\ipykernel_18920\\3694273873.py:4: UserWarning: The given NumPy array is not writable, and PyTorch does not support non-writable tensors. This means writing to this tensor will result in undefined behavior. You may want to copy the array to protect its data or make it writable before converting it to a tensor. This type of warning will be suppressed for the rest of this program. (Triggered internally at  C:\\cb\\pytorch_1000000000000\\work\\torch\\csrc\\utils\\tensor_numpy.cpp:178.)\n",
      "  tensor_img = torch.from_numpy(np.asarray(p_img)).permute(2,0,1).unsqueeze(0).float().div(255).cuda()\n",
      "c:\\Users\\mjy22\\anaconda3\\envs\\pytorch\\lib\\site-packages\\torch\\nn\\modules\\module.py:1053: UserWarning: Using a non-full backward hook when the forward contains multiple autograd Nodes is deprecated and will be removed in future versions. This hook will be missing some grad_input. Please use register_full_backward_hook to get the documented behavior.\n",
      "  warnings.warn(\"Using a non-full backward hook when the forward contains multiple autograd Nodes \"\n"
     ]
    },
    {
     "name": "stdout",
     "output_type": "stream",
     "text": [
      "---------------------\n",
      "./car_data/test_data\\000099.jpg\n",
      "436\n",
      "beach wagon\n",
      "---------------------\n",
      "./car_data/test_data\\000101.jpg\n",
      "656\n",
      "minivan\n",
      "---------------------\n",
      "./car_data/test_data\\000141.jpg\n",
      "656\n",
      "minivan\n",
      "---------------------\n",
      "./car_data/test_data\\000143.jpg\n",
      "436\n",
      "beach wagon\n",
      "---------------------\n",
      "./car_data/test_data\\000152.jpg\n",
      "656\n",
      "minivan\n",
      "---------------------\n",
      "./car_data/test_data\\000153.jpg\n",
      "436\n",
      "beach wagon\n",
      "---------------------\n",
      "./car_data/test_data\\000154.jpg\n",
      "436\n",
      "beach wagon\n",
      "---------------------\n",
      "./car_data/test_data\\000194.jpg\n",
      "656\n",
      "minivan\n",
      "---------------------\n",
      "./car_data/test_data\\000851.jpg\n",
      "882\n",
      "vacuum\n",
      "---------------------\n",
      "./car_data/test_data\\001097.jpg\n",
      "479\n",
      "car wheel\n",
      "---------------------\n",
      "./car_data/test_data\\001221.jpg\n",
      "436\n",
      "beach wagon\n",
      "---------------------\n",
      "./car_data/test_data\\001273.jpg\n",
      "436\n",
      "beach wagon\n",
      "---------------------\n",
      "./car_data/test_data\\001688.jpg\n",
      "882\n",
      "vacuum\n",
      "---------------------\n",
      "./car_data/test_data\\001883.jpg\n",
      "656\n",
      "minivan\n",
      "---------------------\n",
      "./car_data/test_data\\001958.jpg\n",
      "511\n",
      "convertible\n",
      "---------------------\n",
      "./car_data/test_data\\002211.jpg\n",
      "511\n",
      "convertible\n"
     ]
    }
   ],
   "source": [
    "for i in img_pth:\n",
    "    name = i.split('/')[2].split('\\\\')[1].split('.')[0] # .split('/')[3]\n",
    "    img,origin_img = norm_preprocess(i,means=[0.485, 0.456, 0.406], stds=[0.229, 0.224, 0.225])\n",
    "    grad_cam = mv('features',net,img,origin_img,label_idx,name,save_pth,label_list)\n",
    "    grad_cam_map, predic_idx,predic_cls = grad_cam.make_img()\n",
    "    if label_idx != predic_idx: \n",
    "        save_path = './car_data/grad_cam_result/vgg_pt/False_result'\n",
    "        print('-------'*3)\n",
    "        print(i)\n",
    "        print(predic_idx)\n",
    "        print(predic_cls)\n",
    "        grads_cam = mv('features',net,img,origin_img,predic_idx,name,save_path,label_list,re=True)\n",
    "        a,b,c= grads_cam.make_img()\n"
   ]
  },
  {
   "cell_type": "code",
   "execution_count": 10,
   "metadata": {},
   "outputs": [
    {
     "name": "stdout",
     "output_type": "stream",
     "text": [
      "(224, 224)\n"
     ]
    },
    {
     "data": {
      "text/plain": [
       "array([[0.01262219, 0.01262219, 0.01262219, ..., 0.28693682, 0.28693682,\n",
       "        0.28693682],\n",
       "       [0.01262219, 0.01262219, 0.01262219, ..., 0.28693682, 0.28693682,\n",
       "        0.28693682],\n",
       "       [0.01262219, 0.01262219, 0.01262219, ..., 0.28693682, 0.28693682,\n",
       "        0.28693682],\n",
       "       ...,\n",
       "       [0.4222462 , 0.4222462 , 0.4222462 , ..., 0.26425016, 0.26425016,\n",
       "        0.26425016],\n",
       "       [0.4222462 , 0.4222462 , 0.4222462 , ..., 0.26425016, 0.26425016,\n",
       "        0.26425016],\n",
       "       [0.4222462 , 0.4222462 , 0.4222462 , ..., 0.26425016, 0.26425016,\n",
       "        0.26425016]], dtype=float32)"
      ]
     },
     "execution_count": 10,
     "metadata": {},
     "output_type": "execute_result"
    }
   ],
   "source": [
    "htmap = grad_cam_map # 1,1,224,224 tensor gpu \n",
    "\n",
    "htmap_np=htmap.cpu().numpy() # 1,1,224,224 numpy \n",
    "\n",
    "htmap_np_sqeeze = htmap_np.squeeze() # 224,224 numpy -> fromarray \n",
    "\n",
    "print(htmap_np_sqeeze.shape)\n",
    "\n",
    "htmap_np_sqeeze\n",
    "\n"
   ]
  },
  {
   "cell_type": "code",
   "execution_count": 11,
   "metadata": {},
   "outputs": [
    {
     "ename": "TypeError",
     "evalue": "Cannot handle this data type: (1, 1, 224, 224), <f4",
     "output_type": "error",
     "traceback": [
      "\u001b[1;31m---------------------------------------------------------------------------\u001b[0m",
      "\u001b[1;31mKeyError\u001b[0m                                  Traceback (most recent call last)",
      "File \u001b[1;32mc:\\Users\\mjy22\\anaconda3\\envs\\pytorch\\lib\\site-packages\\PIL\\Image.py:2953\u001b[0m, in \u001b[0;36mfromarray\u001b[1;34m(obj, mode)\u001b[0m\n\u001b[0;32m   2952\u001b[0m \u001b[39mtry\u001b[39;00m:\n\u001b[1;32m-> 2953\u001b[0m     mode, rawmode \u001b[39m=\u001b[39m _fromarray_typemap[typekey]\n\u001b[0;32m   2954\u001b[0m \u001b[39mexcept\u001b[39;00m \u001b[39mKeyError\u001b[39;00m \u001b[39mas\u001b[39;00m e:\n",
      "\u001b[1;31mKeyError\u001b[0m: ((1, 1, 224, 224), '<f4')",
      "\nThe above exception was the direct cause of the following exception:\n",
      "\u001b[1;31mTypeError\u001b[0m                                 Traceback (most recent call last)",
      "\u001b[1;32mc:\\Users\\mjy22\\Desktop\\grad_result\\cifar10.ipynb 셀 11\u001b[0m in \u001b[0;36m<cell line: 1>\u001b[1;34m()\u001b[0m\n\u001b[1;32m----> <a href='vscode-notebook-cell:/c%3A/Users/mjy22/Desktop/grad_result/cifar10.ipynb#X13sZmlsZQ%3D%3D?line=0'>1</a>\u001b[0m htmap_np_img \u001b[39m=\u001b[39m Image\u001b[39m.\u001b[39;49mfromarray(htmap_np)\n",
      "File \u001b[1;32mc:\\Users\\mjy22\\anaconda3\\envs\\pytorch\\lib\\site-packages\\PIL\\Image.py:2955\u001b[0m, in \u001b[0;36mfromarray\u001b[1;34m(obj, mode)\u001b[0m\n\u001b[0;32m   2953\u001b[0m         mode, rawmode \u001b[39m=\u001b[39m _fromarray_typemap[typekey]\n\u001b[0;32m   2954\u001b[0m     \u001b[39mexcept\u001b[39;00m \u001b[39mKeyError\u001b[39;00m \u001b[39mas\u001b[39;00m e:\n\u001b[1;32m-> 2955\u001b[0m         \u001b[39mraise\u001b[39;00m \u001b[39mTypeError\u001b[39;00m(\u001b[39m\"\u001b[39m\u001b[39mCannot handle this data type: \u001b[39m\u001b[39m%s\u001b[39;00m\u001b[39m, \u001b[39m\u001b[39m%s\u001b[39;00m\u001b[39m\"\u001b[39m \u001b[39m%\u001b[39m typekey) \u001b[39mfrom\u001b[39;00m \u001b[39me\u001b[39;00m\n\u001b[0;32m   2956\u001b[0m \u001b[39melse\u001b[39;00m:\n\u001b[0;32m   2957\u001b[0m     rawmode \u001b[39m=\u001b[39m mode\n",
      "\u001b[1;31mTypeError\u001b[0m: Cannot handle this data type: (1, 1, 224, 224), <f4"
     ]
    }
   ],
   "source": [
    "htmap_np_img = Image.fromarray(htmap_np)\n"
   ]
  },
  {
   "cell_type": "code",
   "execution_count": 12,
   "metadata": {},
   "outputs": [
    {
     "data": {
      "text/plain": [
       "torch.Size([224, 224])"
      ]
     },
     "execution_count": 12,
     "metadata": {},
     "output_type": "execute_result"
    }
   ],
   "source": [
    "onetake = grad_cam_map.squeeze()\n",
    "onetake.shape\n"
   ]
  },
  {
   "cell_type": "code",
   "execution_count": 13,
   "metadata": {},
   "outputs": [
    {
     "data": {
      "text/plain": [
       "tensor(0.3131, device='cuda:0')"
      ]
     },
     "execution_count": 13,
     "metadata": {},
     "output_type": "execute_result"
    }
   ],
   "source": [
    "onetake.mean()\n"
   ]
  },
  {
   "cell_type": "code",
   "execution_count": 14,
   "metadata": {},
   "outputs": [
    {
     "data": {
      "text/plain": [
       "tensor(0.1992, device='cuda:0')"
      ]
     },
     "execution_count": 14,
     "metadata": {},
     "output_type": "execute_result"
    }
   ],
   "source": [
    "onetake.std() "
   ]
  },
  {
   "cell_type": "code",
   "execution_count": 45,
   "metadata": {},
   "outputs": [
    {
     "name": "stdout",
     "output_type": "stream",
     "text": [
      "tensor(0.3131)\n",
      "tensor(0.1992)\n",
      "torch.Size([224, 224])\n",
      "[[  3   3   3 ...  73  73  73]\n",
      " [  3   3   3 ...  73  73  73]\n",
      " [  3   3   3 ...  73  73  73]\n",
      " ...\n",
      " [107 107 107 ...  67  67  67]\n",
      " [107 107 107 ...  67  67  67]\n",
      " [107 107 107 ...  67  67  67]]\n"
     ]
    }
   ],
   "source": [
    "heatmap_gray = onetake\n",
    "\n",
    "heatmap_gray_np= heatmap_gray.cpu()\n",
    "print(heatmap_gray_np.mean())\n",
    "print(heatmap_gray_np.std())\n",
    "\n",
    "print(heatmap_gray_np.shape)\n",
    "\n",
    "ht_np = np.uint8(heatmap_gray_np*255)\n",
    "\n",
    "print(ht_np)\n",
    "\n",
    "cv2.imshow('result',ht_np)\n",
    "cv2.waitKey()\n",
    "cv2.destroyAllWindows()\n"
   ]
  },
  {
   "cell_type": "code",
   "execution_count": 17,
   "metadata": {},
   "outputs": [
    {
     "name": "stdout",
     "output_type": "stream",
     "text": [
      "tensor([[[[1., 1., 1., 1.],\n",
      "          [1., 1., 1., 1.],\n",
      "          [1., 1., 1., 1.],\n",
      "          [1., 1., 1., 1.]]]])\n"
     ]
    }
   ],
   "source": [
    "tensor1 = torch.ones(1,1,4,4)\n",
    "print(tensor1)"
   ]
  },
  {
   "cell_type": "code",
   "execution_count": 27,
   "metadata": {},
   "outputs": [
    {
     "name": "stdout",
     "output_type": "stream",
     "text": [
      "<class 'torch.Tensor'>\n",
      "torch.Size([4, 4])\n"
     ]
    },
    {
     "data": {
      "text/plain": [
       "tensor([[255., 255., 255., 255.],\n",
       "        [255., 255., 255., 255.],\n",
       "        [255., 255., 255., 255.],\n",
       "        [255., 255., 255., 255.]])"
      ]
     },
     "execution_count": 27,
     "metadata": {},
     "output_type": "execute_result"
    }
   ],
   "source": [
    "tensor1_255 = 255*tensor1.squeeze()\n",
    "print(type(tensor1_255))\n",
    "print(tensor1_255.shape)\n",
    "tensor1_255\n"
   ]
  },
  {
   "cell_type": "code",
   "execution_count": 31,
   "metadata": {},
   "outputs": [
    {
     "name": "stdout",
     "output_type": "stream",
     "text": [
      "<class 'numpy.ndarray'>\n",
      "(4, 4)\n"
     ]
    },
    {
     "data": {
      "text/plain": [
       "array([[255, 255, 255, 255],\n",
       "       [255, 255, 255, 255],\n",
       "       [255, 255, 255, 255],\n",
       "       [255, 255, 255, 255]], dtype=uint8)"
      ]
     },
     "execution_count": 31,
     "metadata": {},
     "output_type": "execute_result"
    }
   ],
   "source": [
    "tensor1_255_np = np.uint8(tensor1_255)\n",
    "\n",
    "print(type(tensor1_255_np))\n",
    "print(tensor1_255_np.shape)\n",
    "tensor1_255_np"
   ]
  },
  {
   "cell_type": "code",
   "execution_count": 35,
   "metadata": {},
   "outputs": [],
   "source": [
    "cv2.imshow('testimg',tensor1_255_np)\n",
    "cv2.waitKey()\n",
    "cv2.destroyAllWindows()"
   ]
  },
  {
   "cell_type": "code",
   "execution_count": null,
   "metadata": {},
   "outputs": [
    {
     "data": {
      "text/plain": [
       "torch.Size([3, 224, 224])"
      ]
     },
     "execution_count": 14,
     "metadata": {},
     "output_type": "execute_result"
    }
   ],
   "source": [
    "from PIL import Image\n",
    "\n",
    "\n",
    "seg_img_pix = Image.open('./car_data/segmentation/002211.jpg')\n",
    "\n",
    "seg_img = torch.from_numpy(np.asarray(seg_img_pix)).permute(2,0,1).float()\n",
    "\n",
    "seg_img.shape\n"
   ]
  },
  {
   "cell_type": "code",
   "execution_count": null,
   "metadata": {},
   "outputs": [
    {
     "data": {
      "text/plain": [
       "torch.Size([224, 224])"
      ]
     },
     "execution_count": 15,
     "metadata": {},
     "output_type": "execute_result"
    }
   ],
   "source": [
    "seg_img[1].shape"
   ]
  },
  {
   "cell_type": "code",
   "execution_count": null,
   "metadata": {},
   "outputs": [],
   "source": [
    "# import os \n",
    "# import glob\n",
    "# import numpy as np \n",
    "# grad_cam_list = [] \n",
    "# text_dir = glob.glob('./txt_result_grad_cam/*.txt')\n",
    "# for i in text_dir:\n",
    "#     f = open(i,'r')\n",
    "    \n",
    "#     grad_cam_list.append(f.read())\n",
    "# f.close()"
   ]
  },
  {
   "cell_type": "code",
   "execution_count": null,
   "metadata": {},
   "outputs": [
    {
     "data": {
      "text/plain": [
       "(24,)"
      ]
     },
     "execution_count": 26,
     "metadata": {},
     "output_type": "execute_result"
    }
   ],
   "source": [
    "np.asarray(grad_cam_list).shape"
   ]
  },
  {
   "cell_type": "code",
   "execution_count": null,
   "metadata": {},
   "outputs": [
    {
     "data": {
      "text/plain": [
       "array(['[[0.         0.         0.         ... 0.00500743 0.00500743 0.00500743]\\n [0.         0.         0.         ... 0.00500743 0.00500743 0.00500743]\\n [0.         0.         0.         ... 0.00500743 0.00500743 0.00500743]\\n ...\\n [0.24338633 0.24338633 0.24338633 ... 0.188556   0.188556   0.188556  ]\\n [0.24338633 0.24338633 0.24338633 ... 0.188556   0.188556   0.188556  ]\\n [0.24338633 0.24338633 0.24338633 ... 0.188556   0.188556   0.188556  ]]',\n",
       "       '[[0.34243792 0.34243792 0.34243792 ... 0.2134192  0.2134192  0.2134192 ]\\n [0.34243792 0.34243792 0.34243792 ... 0.2134192  0.2134192  0.2134192 ]\\n [0.34243792 0.34243792 0.34243792 ... 0.2134192  0.2134192  0.2134192 ]\\n ...\\n [0.26394114 0.26394114 0.26394114 ... 0.195671   0.195671   0.195671  ]\\n [0.26394114 0.26394114 0.26394114 ... 0.195671   0.195671   0.195671  ]\\n [0.26394114 0.26394114 0.26394114 ... 0.195671   0.195671   0.195671  ]]',\n",
       "       '[[0.41637635 0.41637635 0.41637635 ... 0.         0.         0.        ]\\n [0.41637635 0.41637635 0.41637635 ... 0.         0.         0.        ]\\n [0.41637635 0.41637635 0.41637635 ... 0.         0.         0.        ]\\n ...\\n [0.25093174 0.25093174 0.25093174 ... 0.286536   0.286536   0.286536  ]\\n [0.25093174 0.25093174 0.25093174 ... 0.286536   0.286536   0.286536  ]\\n [0.25093174 0.25093174 0.25093174 ... 0.286536   0.286536   0.286536  ]]',\n",
       "       '[[0.59396154 0.59396154 0.59396154 ... 0.40025598 0.40025598 0.40025598]\\n [0.59396154 0.59396154 0.59396154 ... 0.40025598 0.40025598 0.40025598]\\n [0.59396154 0.59396154 0.59396154 ... 0.40025598 0.40025598 0.40025598]\\n ...\\n [0.42699322 0.42699322 0.42699322 ... 0.9801202  0.9801202  0.9801202 ]\\n [0.42699322 0.42699322 0.42699322 ... 0.9801202  0.9801202  0.9801202 ]\\n [0.42699322 0.42699322 0.42699322 ... 0.9801202  0.9801202  0.9801202 ]]',\n",
       "       '[[0.15459353 0.15459353 0.15459353 ... 0.04168546 0.04168546 0.04168546]\\n [0.15459353 0.15459353 0.15459353 ... 0.04168546 0.04168546 0.04168546]\\n [0.15459353 0.15459353 0.15459353 ... 0.04168546 0.04168546 0.04168546]\\n ...\\n [0.17268603 0.17268603 0.17268603 ... 0.35821286 0.35821286 0.35821286]\\n [0.17268603 0.17268603 0.17268603 ... 0.35821286 0.35821286 0.35821286]\\n [0.17268603 0.17268603 0.17268603 ... 0.35821286 0.35821286 0.35821286]]',\n",
       "       '[[0.         0.         0.         ... 0.08668144 0.08668144 0.08668144]\\n [0.         0.         0.         ... 0.08668144 0.08668144 0.08668144]\\n [0.         0.         0.         ... 0.08668144 0.08668144 0.08668144]\\n ...\\n [0.         0.         0.         ... 0.04992137 0.04992137 0.04992137]\\n [0.         0.         0.         ... 0.04992137 0.04992137 0.04992137]\\n [0.         0.         0.         ... 0.04992137 0.04992137 0.04992137]]',\n",
       "       '[[0.15711151 0.15711151 0.15711151 ... 0.01523362 0.01523362 0.01523362]\\n [0.15711151 0.15711151 0.15711151 ... 0.01523362 0.01523362 0.01523362]\\n [0.15711151 0.15711151 0.15711151 ... 0.01523362 0.01523362 0.01523362]\\n ...\\n [0.28003556 0.28003556 0.28003556 ... 0.31454352 0.31454352 0.31454352]\\n [0.28003556 0.28003556 0.28003556 ... 0.31454352 0.31454352 0.31454352]\\n [0.28003556 0.28003556 0.28003556 ... 0.31454352 0.31454352 0.31454352]]',\n",
       "       '[[0.         0.         0.         ... 0.         0.         0.        ]\\n [0.         0.         0.         ... 0.         0.         0.        ]\\n [0.         0.         0.         ... 0.         0.         0.        ]\\n ...\\n [0.2690732  0.2690732  0.2690732  ... 0.23500524 0.23500524 0.23500524]\\n [0.2690732  0.2690732  0.2690732  ... 0.23500524 0.23500524 0.23500524]\\n [0.2690732  0.2690732  0.2690732  ... 0.23500524 0.23500524 0.23500524]]',\n",
       "       '[[0.16291675 0.16291675 0.16291675 ... 0.19065171 0.19065171 0.19065171]\\n [0.16291675 0.16291675 0.16291675 ... 0.19065171 0.19065171 0.19065171]\\n [0.16291675 0.16291675 0.16291675 ... 0.19065171 0.19065171 0.19065171]\\n ...\\n [0.4647854  0.4647854  0.4647854  ... 0.26841396 0.26841396 0.26841396]\\n [0.4647854  0.4647854  0.4647854  ... 0.26841396 0.26841396 0.26841396]\\n [0.4647854  0.4647854  0.4647854  ... 0.26841396 0.26841396 0.26841396]]',\n",
       "       '[[0.04041149 0.04041149 0.04041149 ... 0.         0.         0.        ]\\n [0.04041149 0.04041149 0.04041149 ... 0.         0.         0.        ]\\n [0.04041149 0.04041149 0.04041149 ... 0.         0.         0.        ]\\n ...\\n [0.05339509 0.05339509 0.05339509 ... 0.11409778 0.11409778 0.11409778]\\n [0.05339509 0.05339509 0.05339509 ... 0.11409778 0.11409778 0.11409778]\\n [0.05339509 0.05339509 0.05339509 ... 0.11409778 0.11409778 0.11409778]]',\n",
       "       '[[0.39757916 0.39757916 0.39757916 ... 0.         0.         0.        ]\\n [0.39757916 0.39757916 0.39757916 ... 0.         0.         0.        ]\\n [0.39757916 0.39757916 0.39757916 ... 0.         0.         0.        ]\\n ...\\n [0.34853387 0.34853387 0.34853387 ... 0.03632153 0.03632153 0.03632153]\\n [0.34853387 0.34853387 0.34853387 ... 0.03632153 0.03632153 0.03632153]\\n [0.34853387 0.34853387 0.34853387 ... 0.03632153 0.03632153 0.03632153]]',\n",
       "       '[[0.33615652 0.33615652 0.33615652 ... 0.01060541 0.01060541 0.01060541]\\n [0.33615652 0.33615652 0.33615652 ... 0.01060541 0.01060541 0.01060541]\\n [0.33615652 0.33615652 0.33615652 ... 0.01060541 0.01060541 0.01060541]\\n ...\\n [0.26110372 0.26110372 0.26110372 ... 0.10822496 0.10822496 0.10822496]\\n [0.26110372 0.26110372 0.26110372 ... 0.10822496 0.10822496 0.10822496]\\n [0.26110372 0.26110372 0.26110372 ... 0.10822496 0.10822496 0.10822496]]',\n",
       "       '[[0.17029369 0.17029369 0.17029369 ... 0.19524992 0.19524992 0.19524992]\\n [0.17029369 0.17029369 0.17029369 ... 0.19524992 0.19524992 0.19524992]\\n [0.17029369 0.17029369 0.17029369 ... 0.19524992 0.19524992 0.19524992]\\n ...\\n [0.34158927 0.34158927 0.34158927 ... 0.17443772 0.17443772 0.17443772]\\n [0.34158927 0.34158927 0.34158927 ... 0.17443772 0.17443772 0.17443772]\\n [0.34158927 0.34158927 0.34158927 ... 0.17443772 0.17443772 0.17443772]]',\n",
       "       '[[0.13054259 0.13054259 0.13054259 ... 0.17472482 0.17472482 0.17472482]\\n [0.13054259 0.13054259 0.13054259 ... 0.17472482 0.17472482 0.17472482]\\n [0.13054259 0.13054259 0.13054259 ... 0.17472482 0.17472482 0.17472482]\\n ...\\n [0.07463521 0.07463521 0.07463521 ... 0.07730129 0.07730129 0.07730129]\\n [0.07463521 0.07463521 0.07463521 ... 0.07730129 0.07730129 0.07730129]\\n [0.07463521 0.07463521 0.07463521 ... 0.07730129 0.07730129 0.07730129]]',\n",
       "       '[[0.26568046 0.26568046 0.26568046 ... 0.28564194 0.28564194 0.28564194]\\n [0.26568046 0.26568046 0.26568046 ... 0.28564194 0.28564194 0.28564194]\\n [0.26568046 0.26568046 0.26568046 ... 0.28564194 0.28564194 0.28564194]\\n ...\\n [0.17589621 0.17589621 0.17589621 ... 0.2272431  0.2272431  0.2272431 ]\\n [0.17589621 0.17589621 0.17589621 ... 0.2272431  0.2272431  0.2272431 ]\\n [0.17589621 0.17589621 0.17589621 ... 0.2272431  0.2272431  0.2272431 ]]',\n",
       "       '[[0.12620956 0.12620956 0.12620956 ... 0.11843675 0.11843675 0.11843675]\\n [0.12620956 0.12620956 0.12620956 ... 0.11843675 0.11843675 0.11843675]\\n [0.12620956 0.12620956 0.12620956 ... 0.11843675 0.11843675 0.11843675]\\n ...\\n [0.1246759  0.1246759  0.1246759  ... 0.16017334 0.16017334 0.16017334]\\n [0.1246759  0.1246759  0.1246759  ... 0.16017334 0.16017334 0.16017334]\\n [0.1246759  0.1246759  0.1246759  ... 0.16017334 0.16017334 0.16017334]]',\n",
       "       '[[0.1377625  0.1377625  0.1377625  ... 0.08531499 0.08531499 0.08531499]\\n [0.1377625  0.1377625  0.1377625  ... 0.08531499 0.08531499 0.08531499]\\n [0.1377625  0.1377625  0.1377625  ... 0.08531499 0.08531499 0.08531499]\\n ...\\n [0.5599164  0.5599164  0.5599164  ... 0.4000479  0.4000479  0.4000479 ]\\n [0.5599164  0.5599164  0.5599164  ... 0.4000479  0.4000479  0.4000479 ]\\n [0.5599164  0.5599164  0.5599164  ... 0.4000479  0.4000479  0.4000479 ]]',\n",
       "       '[[0.         0.         0.         ... 0.19228148 0.19228148 0.19228148]\\n [0.         0.         0.         ... 0.19228148 0.19228148 0.19228148]\\n [0.         0.         0.         ... 0.19228148 0.19228148 0.19228148]\\n ...\\n [0.19598521 0.19598521 0.19598521 ... 0.2246498  0.2246498  0.2246498 ]\\n [0.19598521 0.19598521 0.19598521 ... 0.2246498  0.2246498  0.2246498 ]\\n [0.19598521 0.19598521 0.19598521 ... 0.2246498  0.2246498  0.2246498 ]]',\n",
       "       '[[0.37032893 0.37032893 0.37032893 ... 0.16510868 0.16510868 0.16510868]\\n [0.37032893 0.37032893 0.37032893 ... 0.16510868 0.16510868 0.16510868]\\n [0.37032893 0.37032893 0.37032893 ... 0.16510868 0.16510868 0.16510868]\\n ...\\n [0.16575356 0.16575356 0.16575356 ... 0.36037073 0.36037073 0.36037073]\\n [0.16575356 0.16575356 0.16575356 ... 0.36037073 0.36037073 0.36037073]\\n [0.16575356 0.16575356 0.16575356 ... 0.36037073 0.36037073 0.36037073]]',\n",
       "       '[[0.2214937  0.2214937  0.2214937  ... 0.4177208  0.4177208  0.4177208 ]\\n [0.2214937  0.2214937  0.2214937  ... 0.4177208  0.4177208  0.4177208 ]\\n [0.2214937  0.2214937  0.2214937  ... 0.4177208  0.4177208  0.4177208 ]\\n ...\\n [0.02991067 0.02991067 0.02991067 ... 0.         0.         0.        ]\\n [0.02991067 0.02991067 0.02991067 ... 0.         0.         0.        ]\\n [0.02991067 0.02991067 0.02991067 ... 0.         0.         0.        ]]',\n",
       "       '[[0.         0.         0.         ... 0.         0.         0.        ]\\n [0.         0.         0.         ... 0.         0.         0.        ]\\n [0.         0.         0.         ... 0.         0.         0.        ]\\n ...\\n [0.05329866 0.05329866 0.05329866 ... 0.08409645 0.08409645 0.08409645]\\n [0.05329866 0.05329866 0.05329866 ... 0.08409645 0.08409645 0.08409645]\\n [0.05329866 0.05329866 0.05329866 ... 0.08409645 0.08409645 0.08409645]]',\n",
       "       '[[0.186539   0.186539   0.186539   ... 0.03073161 0.03073161 0.03073161]\\n [0.186539   0.186539   0.186539   ... 0.03073161 0.03073161 0.03073161]\\n [0.186539   0.186539   0.186539   ... 0.03073161 0.03073161 0.03073161]\\n ...\\n [0.24170452 0.24170452 0.24170452 ... 0.33229232 0.33229232 0.33229232]\\n [0.24170452 0.24170452 0.24170452 ... 0.33229232 0.33229232 0.33229232]\\n [0.24170452 0.24170452 0.24170452 ... 0.33229232 0.33229232 0.33229232]]',\n",
       "       '[[0.12466968 0.12466968 0.12466968 ... 0.15740119 0.15740119 0.15740119]\\n [0.12466968 0.12466968 0.12466968 ... 0.15740119 0.15740119 0.15740119]\\n [0.12466968 0.12466968 0.12466968 ... 0.15740119 0.15740119 0.15740119]\\n ...\\n [0.25685823 0.25685823 0.25685823 ... 0.21791643 0.21791643 0.21791643]\\n [0.25685823 0.25685823 0.25685823 ... 0.21791643 0.21791643 0.21791643]\\n [0.25685823 0.25685823 0.25685823 ... 0.21791643 0.21791643 0.21791643]]',\n",
       "       '[[0.01262219 0.01262219 0.01262219 ... 0.28693682 0.28693682 0.28693682]\\n [0.01262219 0.01262219 0.01262219 ... 0.28693682 0.28693682 0.28693682]\\n [0.01262219 0.01262219 0.01262219 ... 0.28693682 0.28693682 0.28693682]\\n ...\\n [0.4222462  0.4222462  0.4222462  ... 0.26425016 0.26425016 0.26425016]\\n [0.4222462  0.4222462  0.4222462  ... 0.26425016 0.26425016 0.26425016]\\n [0.4222462  0.4222462  0.4222462  ... 0.26425016 0.26425016 0.26425016]]'],\n",
       "      dtype='<U443')"
      ]
     },
     "execution_count": 27,
     "metadata": {},
     "output_type": "execute_result"
    }
   ],
   "source": [
    "np.asarray(grad_cam_list)"
   ]
  },
  {
   "cell_type": "code",
   "execution_count": null,
   "metadata": {},
   "outputs": [],
   "source": []
  },
  {
   "cell_type": "code",
   "execution_count": null,
   "metadata": {},
   "outputs": [],
   "source": []
  }
 ],
 "metadata": {
  "kernelspec": {
   "display_name": "Python 3.10.4 ('pytorch')",
   "language": "python",
   "name": "python3"
  },
  "language_info": {
   "codemirror_mode": {
    "name": "ipython",
    "version": 3
   },
   "file_extension": ".py",
   "mimetype": "text/x-python",
   "name": "python",
   "nbconvert_exporter": "python",
   "pygments_lexer": "ipython3",
   "version": "3.10.4"
  },
  "orig_nbformat": 4,
  "vscode": {
   "interpreter": {
    "hash": "ee22937dcbee3f51f6aed73815f5ebb41f6c896aa5905ae71496d4374e7de50a"
   }
  }
 },
 "nbformat": 4,
 "nbformat_minor": 2
}
