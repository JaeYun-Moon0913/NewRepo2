{
 "cells": [
  {
   "cell_type": "code",
   "execution_count": 1,
   "metadata": {},
   "outputs": [],
   "source": [
    "import torchvision.models as models\n",
    "import torch.nn as nn\n",
    "import torch\n",
    "import os\n",
    "import cv2\n",
    "from PIL import Image \n",
    "import glob\n",
    "import torchvision\n",
    "import torchvision.transforms as transforms\n",
    "import datetime\n",
    "import numpy as np\n",
    "import torch.nn.functional as F\n",
    "import matplotlib.pyplot as plt\n",
    "import matplotlib\n",
    "from torchvision.utils import make_grid, save_image\n",
    "\n",
    "\n",
    "\n",
    "from Grad_CAM.img_norm import Normalize, transform_img\n",
    "from Grad_CAM.model_value import mv"
   ]
  },
  {
   "cell_type": "code",
   "execution_count": 2,
   "metadata": {},
   "outputs": [
    {
     "name": "stdout",
     "output_type": "stream",
     "text": [
      "VGG(\n",
      "  (features): Sequential(\n",
      "    (0): Conv2d(3, 64, kernel_size=(3, 3), stride=(1, 1), padding=(1, 1))\n",
      "    (1): ReLU(inplace=True)\n",
      "    (2): Conv2d(64, 64, kernel_size=(3, 3), stride=(1, 1), padding=(1, 1))\n",
      "    (3): ReLU(inplace=True)\n",
      "    (4): MaxPool2d(kernel_size=2, stride=2, padding=0, dilation=1, ceil_mode=False)\n",
      "    (5): Conv2d(64, 128, kernel_size=(3, 3), stride=(1, 1), padding=(1, 1))\n",
      "    (6): ReLU(inplace=True)\n",
      "    (7): Conv2d(128, 128, kernel_size=(3, 3), stride=(1, 1), padding=(1, 1))\n",
      "    (8): ReLU(inplace=True)\n",
      "    (9): MaxPool2d(kernel_size=2, stride=2, padding=0, dilation=1, ceil_mode=False)\n",
      "    (10): Conv2d(128, 256, kernel_size=(3, 3), stride=(1, 1), padding=(1, 1))\n",
      "    (11): ReLU(inplace=True)\n",
      "    (12): Conv2d(256, 256, kernel_size=(3, 3), stride=(1, 1), padding=(1, 1))\n",
      "    (13): ReLU(inplace=True)\n",
      "    (14): Conv2d(256, 256, kernel_size=(3, 3), stride=(1, 1), padding=(1, 1))\n",
      "    (15): ReLU(inplace=True)\n",
      "    (16): MaxPool2d(kernel_size=2, stride=2, padding=0, dilation=1, ceil_mode=False)\n",
      "    (17): Conv2d(256, 512, kernel_size=(3, 3), stride=(1, 1), padding=(1, 1))\n",
      "    (18): ReLU(inplace=True)\n",
      "    (19): Conv2d(512, 512, kernel_size=(3, 3), stride=(1, 1), padding=(1, 1))\n",
      "    (20): ReLU(inplace=True)\n",
      "    (21): Conv2d(512, 512, kernel_size=(3, 3), stride=(1, 1), padding=(1, 1))\n",
      "    (22): ReLU(inplace=True)\n",
      "    (23): MaxPool2d(kernel_size=2, stride=2, padding=0, dilation=1, ceil_mode=False)\n",
      "    (24): Conv2d(512, 512, kernel_size=(3, 3), stride=(1, 1), padding=(1, 1))\n",
      "    (25): ReLU(inplace=True)\n",
      "    (26): Conv2d(512, 512, kernel_size=(3, 3), stride=(1, 1), padding=(1, 1))\n",
      "    (27): ReLU(inplace=True)\n",
      "    (28): Conv2d(512, 512, kernel_size=(3, 3), stride=(1, 1), padding=(1, 1))\n",
      "    (29): ReLU(inplace=True)\n",
      "    (30): MaxPool2d(kernel_size=2, stride=2, padding=0, dilation=1, ceil_mode=False)\n",
      "  )\n",
      "  (avgpool): AdaptiveAvgPool2d(output_size=(7, 7))\n",
      "  (classifier): Sequential(\n",
      "    (0): Linear(in_features=25088, out_features=4096, bias=True)\n",
      "    (1): ReLU(inplace=True)\n",
      "    (2): Dropout(p=0.5, inplace=False)\n",
      "    (3): Linear(in_features=4096, out_features=4096, bias=True)\n",
      "    (4): ReLU(inplace=True)\n",
      "    (5): Dropout(p=0.5, inplace=False)\n",
      "    (6): Linear(in_features=4096, out_features=1000, bias=True)\n",
      "  )\n",
      ")\n"
     ]
    }
   ],
   "source": [
    "use_pretrained=True # 학습 된 파라미터 사용\n",
    "net = models.vgg16(pretrained=use_pretrained).cuda()\n",
    "\n",
    "# 모델 네트워크 구성 출력\n",
    "print(net)"
   ]
  },
  {
   "cell_type": "code",
   "execution_count": 3,
   "metadata": {},
   "outputs": [
    {
     "name": "stdout",
     "output_type": "stream",
     "text": [
      "features\n",
      "avgpool\n",
      "classifier\n"
     ]
    }
   ],
   "source": [
    "for i in net._modules.items():\n",
    "    print(i[0])\n",
    "    "
   ]
  },
  {
   "cell_type": "code",
   "execution_count": 4,
   "metadata": {},
   "outputs": [
    {
     "data": {
      "text/plain": [
       "odict_keys(['features', 'avgpool', 'classifier'])"
      ]
     },
     "execution_count": 4,
     "metadata": {},
     "output_type": "execute_result"
    }
   ],
   "source": [
    "net._modules.keys()"
   ]
  },
  {
   "cell_type": "code",
   "execution_count": 5,
   "metadata": {},
   "outputs": [],
   "source": [
    "def norm_preprocess(img_pth,means,stds): # img_pth 주면 img -> torch tensor type (1,3,224,224) \n",
    "    # means = [r,g,b] / std = [r,g,b]\n",
    "    p_img = Image.open(img_pth) \n",
    "    tensor_img = torch.from_numpy(np.asarray(p_img)).permute(2,0,1).unsqueeze(0).float().div(255).cuda()\n",
    "    # vgg -> 1,3,224,224\n",
    "    # alex -> 1,3,227,227\n",
    "    if tensor_img != (1,3,224,224) :\n",
    "        tensor_img = F.interpolate(tensor_img,size=(224,224),mode='bilinear', align_corners=False)\n",
    "\n",
    "    norm_mean_std = Normalize(mean=means, std=stds)\n",
    "    nt_img = norm_mean_std(tensor_img)\n",
    "\n",
    "    return nt_img , tensor_img"
   ]
  },
  {
   "cell_type": "code",
   "execution_count": 6,
   "metadata": {},
   "outputs": [],
   "source": [
    "# !wget https://raw.githubusercontent.com/pytorch/hub/master/imagenet_classes.txt"
   ]
  },
  {
   "cell_type": "code",
   "execution_count": 7,
   "metadata": {},
   "outputs": [
    {
     "data": {
      "text/plain": [
       "1000"
      ]
     },
     "execution_count": 7,
     "metadata": {},
     "output_type": "execute_result"
    }
   ],
   "source": [
    "label_list = [] \n",
    "f = open('./imagenet_classes.txt','r')\n",
    "while True:\n",
    "    line = f.readline()\n",
    "    if not line: break\n",
    "    label_list.append(line.split('\\n')[0])\n",
    "f.close()\n",
    "\n",
    "len(label_list)\n"
   ]
  },
  {
   "cell_type": "code",
   "execution_count": 8,
   "metadata": {},
   "outputs": [],
   "source": [
    "DEVICE = 'cuda' if torch.cuda.is_available() else 'cpu'\n",
    "img_pth = glob.glob('./car_data/test_data/*.jpg')\n",
    "model_pth = glob.glob('./vgg_pt/*pt')\n",
    "save_pth = './car_data/grad_cam_result/vgg_pt/sportcar/'\n",
    "label_idx = 817\n"
   ]
  },
  {
   "cell_type": "code",
   "execution_count": 9,
   "metadata": {},
   "outputs": [
    {
     "name": "stderr",
     "output_type": "stream",
     "text": [
      "/compuworks/anaconda3/envs/torch18/lib/python3.8/site-packages/torch/nn/modules/module.py:795: UserWarning: Using a non-full backward hook when the forward contains multiple autograd Nodes is deprecated and will be removed in future versions. This hook will be missing some grad_input. Please use register_full_backward_hook to get the documented behavior.\n",
      "  warnings.warn(\"Using a non-full backward hook when the forward contains multiple autograd Nodes \"\n"
     ]
    },
    {
     "name": "stdout",
     "output_type": "stream",
     "text": [
      "---------------------\n",
      "./car_data/test_data/000152.jpg\n",
      "656\n",
      "minivan\n",
      "---------------------\n",
      "./car_data/test_data/001273.jpg\n",
      "436\n",
      "beach wagon\n",
      "---------------------\n",
      "./car_data/test_data/000101.jpg\n",
      "656\n",
      "minivan\n",
      "---------------------\n",
      "./car_data/test_data/000851.jpg\n",
      "882\n",
      "vacuum\n",
      "---------------------\n",
      "./car_data/test_data/002211.jpg\n",
      "511\n",
      "convertible\n",
      "---------------------\n",
      "./car_data/test_data/000153.jpg\n",
      "436\n",
      "beach wagon\n",
      "---------------------\n",
      "./car_data/test_data/001221.jpg\n",
      "436\n",
      "beach wagon\n",
      "---------------------\n",
      "./car_data/test_data/001883.jpg\n",
      "656\n",
      "minivan\n",
      "---------------------\n",
      "./car_data/test_data/001688.jpg\n",
      "882\n",
      "vacuum\n",
      "---------------------\n",
      "./car_data/test_data/000141.jpg\n",
      "656\n",
      "minivan\n",
      "---------------------\n",
      "./car_data/test_data/000143.jpg\n",
      "436\n",
      "beach wagon\n",
      "---------------------\n",
      "./car_data/test_data/001958.jpg\n",
      "511\n",
      "convertible\n",
      "---------------------\n",
      "./car_data/test_data/000154.jpg\n",
      "436\n",
      "beach wagon\n",
      "---------------------\n",
      "./car_data/test_data/000194.jpg\n",
      "656\n",
      "minivan\n",
      "---------------------\n",
      "./car_data/test_data/000099.jpg\n",
      "436\n",
      "beach wagon\n",
      "---------------------\n",
      "./car_data/test_data/001097.jpg\n",
      "479\n",
      "car wheel\n"
     ]
    }
   ],
   "source": [
    "for i in img_pth:\n",
    "    name = i.split('/')[3]\n",
    "    img,origin_img = norm_preprocess(i,means=[0.485, 0.456, 0.406], stds=[0.229, 0.224, 0.225])\n",
    "    grad_cam = mv('features',net,img,origin_img,label_idx,name,save_pth,label_list)\n",
    "    best_class,best_clas_name = grad_cam.make_img()\n",
    "    if label_idx != best_class: \n",
    "        save_path = './car_data/grad_cam_result/vgg_pt/False_result'\n",
    "        print('-------'*3)\n",
    "        print(i)\n",
    "        print(best_class)\n",
    "        print(best_clas_name)\n",
    "        grads_cam = mv('features',net,img,origin_img,best_class,name,save_path,label_list,re=True)\n",
    "        a,b = grads_cam.make_img()\n"
   ]
  },
  {
   "cell_type": "code",
   "execution_count": null,
   "metadata": {},
   "outputs": [],
   "source": []
  }
 ],
 "metadata": {
  "kernelspec": {
   "display_name": "Pytorch18",
   "language": "python",
   "name": "torch18"
  },
  "language_info": {
   "codemirror_mode": {
    "name": "ipython",
    "version": 3
   },
   "file_extension": ".py",
   "mimetype": "text/x-python",
   "name": "python",
   "nbconvert_exporter": "python",
   "pygments_lexer": "ipython3",
   "version": "3.8.11"
  },
  "orig_nbformat": 4
 },
 "nbformat": 4,
 "nbformat_minor": 2
}
