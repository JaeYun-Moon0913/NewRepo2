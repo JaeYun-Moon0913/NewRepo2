{
 "cells": [
  {
   "cell_type": "code",
   "execution_count": 1,
   "metadata": {},
   "outputs": [],
   "source": [
    "import os \n",
    "import glob \n",
    "import numpy as np \n",
    "import matplotlib.pyplot as plt \n",
    "%matplotlib inline\n",
    "import cv2\n",
    "from PIL import Image \n",
    "\n",
    "import torch \n",
    "import torchvision\n",
    "import torchvision.transforms as transforms\n",
    "import torch.nn.functional as F\n",
    "from torchvision.utils import make_grid, save_image\n",
    "\n",
    "\n",
    "from cnn_model.Vgg import VGG\n",
    "from cnn_model.alexnet import AlexNet\n",
    "from Grad_CAM.img_norm import Normalize, transform_img\n",
    "from Grad_CAM.model_value import mv\n",
    "\n",
    "DEVICE = torch.device(\"cuda\" if torch.cuda.is_available() else \"cpu\")"
   ]
  },
  {
   "cell_type": "code",
   "execution_count": 2,
   "metadata": {},
   "outputs": [],
   "source": [
    "class_label = {'airplane': 0,\n",
    " 'automobile': 1,\n",
    " 'bird': 2,\n",
    " 'cat': 3,\n",
    " 'deer': 4,\n",
    " 'dog': 5,\n",
    " 'frog': 6,\n",
    " 'horse': 7,\n",
    " 'ship': 8,\n",
    " 'truck': 9}\n",
    "\n",
    "label_list = list(class_label.keys())\n",
    "\n",
    "img_pth = glob.glob('./car_data/test_data/*.jpg')\n",
    "pt_pth = './pt/car_front&side_pt/vgg16_cifar10_30epoch.pt'\n",
    "save_pth = './result/grad_cam_image/True_result/'\n",
    "\n",
    "label_idx = 1\n",
    "\n"
   ]
  },
  {
   "cell_type": "code",
   "execution_count": 3,
   "metadata": {},
   "outputs": [
    {
     "name": "stdout",
     "output_type": "stream",
     "text": [
      "VGG(\n",
      "  (conv1): Sequential(\n",
      "    (0): Conv2d(3, 64, kernel_size=(3, 3), stride=(1, 1), padding=(1, 1))\n",
      "    (1): ReLU()\n",
      "    (2): Conv2d(64, 64, kernel_size=(3, 3), stride=(1, 1), padding=(1, 1))\n",
      "    (3): ReLU()\n",
      "    (4): MaxPool2d(kernel_size=2, stride=2, padding=0, dilation=1, ceil_mode=False)\n",
      "  )\n",
      "  (conv2): Sequential(\n",
      "    (0): Conv2d(64, 128, kernel_size=(3, 3), stride=(1, 1), padding=(1, 1))\n",
      "    (1): ReLU()\n",
      "    (2): Conv2d(128, 128, kernel_size=(3, 3), stride=(1, 1), padding=(1, 1))\n",
      "    (3): ReLU()\n",
      "    (4): MaxPool2d(kernel_size=2, stride=2, padding=0, dilation=1, ceil_mode=False)\n",
      "  )\n",
      "  (conv3): Sequential(\n",
      "    (0): Conv2d(128, 256, kernel_size=(3, 3), stride=(1, 1), padding=(1, 1))\n",
      "    (1): ReLU()\n",
      "    (2): Conv2d(256, 256, kernel_size=(3, 3), stride=(1, 1), padding=(1, 1))\n",
      "    (3): ReLU()\n",
      "    (4): Conv2d(256, 256, kernel_size=(3, 3), stride=(1, 1), padding=(1, 1))\n",
      "    (5): ReLU()\n",
      "    (6): MaxPool2d(kernel_size=2, stride=2, padding=0, dilation=1, ceil_mode=False)\n",
      "  )\n",
      "  (conv4): Sequential(\n",
      "    (0): Conv2d(256, 512, kernel_size=(3, 3), stride=(1, 1), padding=(1, 1))\n",
      "    (1): ReLU()\n",
      "    (2): Conv2d(512, 512, kernel_size=(3, 3), stride=(1, 1), padding=(1, 1))\n",
      "    (3): ReLU()\n",
      "    (4): Conv2d(512, 512, kernel_size=(3, 3), stride=(1, 1), padding=(1, 1))\n",
      "    (5): ReLU()\n",
      "    (6): MaxPool2d(kernel_size=2, stride=2, padding=0, dilation=1, ceil_mode=False)\n",
      "  )\n",
      "  (conv5): Sequential(\n",
      "    (0): Conv2d(512, 512, kernel_size=(3, 3), stride=(1, 1), padding=(1, 1))\n",
      "    (1): ReLU()\n",
      "    (2): Conv2d(512, 512, kernel_size=(3, 3), stride=(1, 1), padding=(1, 1))\n",
      "    (3): ReLU()\n",
      "    (4): Conv2d(512, 512, kernel_size=(3, 3), stride=(1, 1), padding=(1, 1))\n",
      "    (5): ReLU()\n",
      "    (6): MaxPool2d(kernel_size=2, stride=2, padding=0, dilation=1, ceil_mode=False)\n",
      "  )\n",
      "  (fc_layer): Sequential(\n",
      "    (0): Linear(in_features=512, out_features=4096, bias=True)\n",
      "    (1): ReLU()\n",
      "    (2): Dropout(p=0.5, inplace=False)\n",
      "    (3): Linear(in_features=4096, out_features=4096, bias=True)\n",
      "    (4): ReLU()\n",
      "    (5): Dropout(p=0.5, inplace=False)\n",
      "    (6): Linear(in_features=4096, out_features=1000, bias=True)\n",
      "    (7): ReLU()\n",
      "    (8): Dropout(p=0.5, inplace=False)\n",
      "    (9): Linear(in_features=1000, out_features=10, bias=True)\n",
      "  )\n",
      ")\n",
      "odict_keys(['conv1', 'conv2', 'conv3', 'conv4', 'conv5', 'fc_layer'])\n"
     ]
    }
   ],
   "source": [
    "\n",
    "vgg_net = VGG(3,10,'vgg16',input_size=32).to(DEVICE)\n",
    "net = torch.load(pt_pth)\n",
    "print(net)\n",
    "\n",
    "print(vgg_net._modules.keys())"
   ]
  },
  {
   "cell_type": "code",
   "execution_count": 4,
   "metadata": {},
   "outputs": [],
   "source": [
    "def norm_preprocess(img_pth,means,stds): # img_pth 주면 img -> torch tensor type (1,3,224,224) \n",
    "    # means = [r,g,b] / std = [r,g,b]\n",
    "    p_img = Image.open(img_pth) \n",
    "    tensor_img = torch.from_numpy(np.asarray(p_img)).permute(2,0,1).unsqueeze(0).float().div(255).cuda()\n",
    "    # vgg -> 1,3,224,224\n",
    "    # alex -> 1,3,227,227\n",
    "\n",
    "    tensor_img = F.interpolate(tensor_img,size=(32,32),mode='bilinear', align_corners=False)\n",
    " \n",
    "\n",
    "\n",
    "    norm_mean_std = Normalize(mean=means, std=stds)\n",
    "    nt_img = norm_mean_std(tensor_img)\n",
    "\n",
    "    return nt_img , tensor_img"
   ]
  },
  {
   "cell_type": "code",
   "execution_count": 7,
   "metadata": {},
   "outputs": [
    {
     "name": "stderr",
     "output_type": "stream",
     "text": [
      "c:\\Users\\mjy22\\anaconda3\\envs\\pytorch\\lib\\site-packages\\torch\\nn\\modules\\module.py:1053: UserWarning: Using a non-full backward hook when the forward contains multiple autograd Nodes is deprecated and will be removed in future versions. This hook will be missing some grad_input. Please use register_full_backward_hook to get the documented behavior.\n",
      "  warnings.warn(\"Using a non-full backward hook when the forward contains multiple autograd Nodes \"\n"
     ]
    },
    {
     "name": "stdout",
     "output_type": "stream",
     "text": [
      "torch.Size([1, 3, 32, 32]) 000099.jpg\n",
      "torch.Size([1, 3, 32, 32]) 000100.jpg\n",
      "torch.Size([1, 3, 32, 32]) 000101.jpg\n",
      "torch.Size([1, 3, 32, 32]) 000141.jpg\n",
      "torch.Size([1, 3, 32, 32]) 000143.jpg\n",
      "torch.Size([1, 3, 32, 32]) 000152.jpg\n",
      "torch.Size([1, 3, 32, 32]) 000153.jpg\n",
      "torch.Size([1, 3, 32, 32]) 000154.jpg\n",
      "torch.Size([1, 3, 32, 32]) 000191.jpg\n",
      "torch.Size([1, 3, 32, 32]) 000194.jpg\n",
      "torch.Size([1, 3, 32, 32]) 000417.jpg\n",
      "torch.Size([1, 3, 32, 32]) 000461.jpg\n",
      "torch.Size([1, 3, 32, 32]) 000716.jpg\n",
      "torch.Size([1, 3, 32, 32]) 000788.jpg\n",
      "torch.Size([1, 3, 32, 32]) 000851.jpg\n",
      "torch.Size([1, 3, 32, 32]) 001052.jpg\n",
      "torch.Size([1, 3, 32, 32]) 001097.jpg\n",
      "torch.Size([1, 3, 32, 32]) 001221.jpg\n",
      "torch.Size([1, 3, 32, 32]) 001273.jpg\n",
      "torch.Size([1, 3, 32, 32]) 001688.jpg\n",
      "torch.Size([1, 3, 32, 32]) 001883.jpg\n",
      "torch.Size([1, 3, 32, 32]) 001958.jpg\n",
      "torch.Size([1, 3, 32, 32]) 002001.jpg\n",
      "torch.Size([1, 3, 32, 32]) 002211.jpg\n"
     ]
    }
   ],
   "source": [
    "for i in img_pth:\n",
    "    name = i.split('/')[2].split('\\\\')[1]\n",
    "    img,origin_img = norm_preprocess(i,means=[0.485, 0.456, 0.406], stds=[0.229, 0.224, 0.225])\n",
    "    \n",
    "    grad_cam = mv('conv5',net,img,origin_img,label_idx,name,save_pth,label_list)\n",
    "    best_class,best_clas_name = grad_cam.make_img()\n",
    "    print(img.shape, name)\n",
    "    if label_idx != best_class: \n",
    "        save_path = './result/grad_cam_image/False_result'\n",
    "        print('-------'*3)\n",
    "        print(i)\n",
    "        print(best_class)\n",
    "        print(best_clas_name)\n",
    "        grads_cam = mv('features',net,img,origin_img,best_class,name,save_path,label_list,re=True)\n",
    "        a,b = grads_cam.make_img()\n"
   ]
  },
  {
   "cell_type": "code",
   "execution_count": null,
   "metadata": {},
   "outputs": [],
   "source": []
  }
 ],
 "metadata": {
  "kernelspec": {
   "display_name": "Python 3.10.4 ('pytorch')",
   "language": "python",
   "name": "python3"
  },
  "language_info": {
   "codemirror_mode": {
    "name": "ipython",
    "version": 3
   },
   "file_extension": ".py",
   "mimetype": "text/x-python",
   "name": "python",
   "nbconvert_exporter": "python",
   "pygments_lexer": "ipython3",
   "version": "3.10.4"
  },
  "orig_nbformat": 4,
  "vscode": {
   "interpreter": {
    "hash": "ee22937dcbee3f51f6aed73815f5ebb41f6c896aa5905ae71496d4374e7de50a"
   }
  }
 },
 "nbformat": 4,
 "nbformat_minor": 2
}
