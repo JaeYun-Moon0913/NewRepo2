{
 "cells": [
  {
   "cell_type": "code",
   "execution_count": 1,
   "metadata": {},
   "outputs": [],
   "source": [
    "import os\n",
    "import glob\n",
    "import cv2\n",
    "from PIL import Image \n",
    "import numpy as np \n",
    "import datetime \n",
    "\n",
    "import torch\n",
    "from torchvision.utils import make_grid, save_image\n",
    "from torch.utils.data import Dataset ,DataLoader\n",
    "import torchvision.transforms as transforms\n",
    "import torch.nn.functional as F\n",
    "\n",
    "from Grad_CAM.img_norm import Normalize, transform_img\n",
    "from Grad_CAM.model_value import mv"
   ]
  },
  {
   "cell_type": "code",
   "execution_count": 2,
   "metadata": {},
   "outputs": [],
   "source": [
    "def norm_preprocess(img_pth,means,stds): # img_pth 주면 img -> torch tensor type (1,3,224,224) \n",
    "    # means = [r,g,b] / std = [r,g,b]\n",
    "    p_img = Image.open(img_pth) \n",
    "    tensor_img = torch.from_numpy(np.asarray(p_img)).permute(2,0,1).unsqueeze(0).float().div(255).cuda()\n",
    "    # vgg -> 1,3,224,224\n",
    "    # alex -> 1,3,227,227\n",
    "    if tensor_img != (1,3,224,224) :\n",
    "        tensor_img = F.interpolate(tensor_img,size=(224,224),mode='bilinear', align_corners=False)\n",
    "\n",
    "    norm_mean_std = Normalize(mean=means, std=stds)\n",
    "    nt_img = norm_mean_std(tensor_img)\n",
    "\n",
    "    return nt_img , tensor_img"
   ]
  },
  {
   "cell_type": "code",
   "execution_count": 3,
   "metadata": {},
   "outputs": [],
   "source": [
    "DEVICE = 'cuda' if torch.cuda.is_available() else 'cpu'\n",
    "img_pth = glob.glob('./car_data/test_data/*.jpg')\n",
    "model_pth = glob.glob('./vgg_pt/*pt')\n",
    "save_pth = './car_data/grad_cam_result/'\n",
    "LABEL_NAME = ['airplane','automobile','bird','cat','deer','dog','frog','horse','ship','truck']\n",
    "label_idx = 1\n"
   ]
  },
  {
   "cell_type": "code",
   "execution_count": 4,
   "metadata": {},
   "outputs": [],
   "source": [
    "for i in model_pth:\n",
    "    save_name = i.split('\\\\')[1].split('.')[0]\n",
    "    save_path = os.path.join(save_pth,save_name)\n",
    "    # make dir\n",
    "    if os.path.exists(save_path):\n",
    "        continue\n",
    "    else: \n",
    "        os.mkdir(save_path)\n",
    "    "
   ]
  },
  {
   "cell_type": "code",
   "execution_count": 5,
   "metadata": {},
   "outputs": [
    {
     "name": "stderr",
     "output_type": "stream",
     "text": [
      "C:\\Users\\mjy22\\AppData\\Local\\Temp\\ipykernel_21556\\3694273873.py:4: UserWarning: The given NumPy array is not writable, and PyTorch does not support non-writable tensors. This means writing to this tensor will result in undefined behavior. You may want to copy the array to protect its data or make it writable before converting it to a tensor. This type of warning will be suppressed for the rest of this program. (Triggered internally at  C:\\cb\\pytorch_1000000000000\\work\\torch\\csrc\\utils\\tensor_numpy.cpp:178.)\n",
      "  tensor_img = torch.from_numpy(np.asarray(p_img)).permute(2,0,1).unsqueeze(0).float().div(255).cuda()\n",
      "c:\\Users\\mjy22\\anaconda3\\envs\\pytorch\\lib\\site-packages\\torch\\nn\\modules\\module.py:1053: UserWarning: Using a non-full backward hook when the forward contains multiple autograd Nodes is deprecated and will be removed in future versions. This hook will be missing some grad_input. Please use register_full_backward_hook to get the documented behavior.\n",
      "  warnings.warn(\"Using a non-full backward hook when the forward contains multiple autograd Nodes \"\n"
     ]
    },
    {
     "name": "stdout",
     "output_type": "stream",
     "text": [
      "-------vgg16_cifar10_10epoch--------\n",
      "./car_data/test_data\\000851.jpg\n",
      "truck\n",
      "-------vgg16_cifar10_10epoch--------\n",
      "./car_data/test_data\\001688.jpg\n",
      "bird\n",
      "-------vgg16_cifar10_20epoch--------\n",
      "./car_data/test_data\\000100.jpg\n",
      "truck\n",
      "-------vgg16_cifar10_20epoch--------\n",
      "./car_data/test_data\\000143.jpg\n",
      "truck\n",
      "-------vgg16_cifar10_20epoch--------\n",
      "./car_data/test_data\\000851.jpg\n",
      "truck\n",
      "-------vgg16_cifar10_20epoch--------\n",
      "./car_data/test_data\\001688.jpg\n",
      "bird\n"
     ]
    }
   ],
   "source": [
    "for i in range(0,2):\n",
    "    mod=model_pth[i]\n",
    "    models = torch.load(mod).to(DEVICE)\n",
    "    save_name = mod.split('\\\\')[1].split('.')[0]\n",
    "    save_path = os.path.join(save_pth,save_name)\n",
    "\n",
    "    for v in img_pth:\n",
    "        name = v.split('/')[2].split('\\\\')[1]\n",
    "        img,origin_img = norm_preprocess(v,means=[0.485, 0.456, 0.406], stds=[0.229, 0.224, 0.225])\n",
    "        grad_cam = mv('conv5',models,img,origin_img,label_idx,name,save_path,LABEL_NAME)\n",
    "        best_clas,best_clas_name=grad_cam.make_img()\n",
    "        if label_idx != best_clas: \n",
    "            print('-------'+save_name+'--------')\n",
    "            print(v)\n",
    "            print(best_clas_name)\n",
    "\n",
    "            grad_cam = mv('conv5',models,img,origin_img,best_clas,name,save_path,LABEL_NAME,re=True)\n",
    "            grad_cam.make_img()\n",
    "\n",
    "        \n",
    "        \n",
    "        \n",
    "        \n",
    "\n",
    "    "
   ]
  },
  {
   "cell_type": "code",
   "execution_count": 6,
   "metadata": {},
   "outputs": [],
   "source": [
    "# for v in img_pth:\n",
    "#     name = v.split('/')[3]\n",
    "#     img,origin_img = norm_preprocess(v,means=[0.485, 0.456, 0.406], stds=[0.229, 0.224, 0.225])\n",
    "#     grad_cam = mv('conv5',model_10ep,img,origin_img,name,save_path)\n",
    "#     grad_cam.make_img()\n",
    "    \n",
    "    "
   ]
  },
  {
   "cell_type": "code",
   "execution_count": null,
   "metadata": {},
   "outputs": [],
   "source": []
  }
 ],
 "metadata": {
  "kernelspec": {
   "display_name": "Python 3.10.4 ('pytorch')",
   "language": "python",
   "name": "python3"
  },
  "language_info": {
   "codemirror_mode": {
    "name": "ipython",
    "version": 3
   },
   "file_extension": ".py",
   "mimetype": "text/x-python",
   "name": "python",
   "nbconvert_exporter": "python",
   "pygments_lexer": "ipython3",
   "version": "3.10.4"
  },
  "orig_nbformat": 4,
  "vscode": {
   "interpreter": {
    "hash": "ee22937dcbee3f51f6aed73815f5ebb41f6c896aa5905ae71496d4374e7de50a"
   }
  }
 },
 "nbformat": 4,
 "nbformat_minor": 2
}
