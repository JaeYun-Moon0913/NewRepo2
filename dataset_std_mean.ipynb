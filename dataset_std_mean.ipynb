{
 "cells": [
  {
   "cell_type": "markdown",
   "metadata": {},
   "source": [
    "### Pytorch dataset"
   ]
  },
  {
   "cell_type": "code",
   "execution_count": 3,
   "metadata": {},
   "outputs": [
    {
     "name": "stdout",
     "output_type": "stream",
     "text": [
      "Files already downloaded and verified\n",
      "type :  <class 'torchvision.datasets.cifar.CIFAR10'>\n"
     ]
    }
   ],
   "source": [
    "import os\n",
    "from sklearn.utils import shuffle \n",
    "import torch \n",
    "from torchvision import datasets, transforms\n",
    "from torch.utils.data.dataset import Dataset\n",
    "from tqdm.notebook import tqdm\n",
    "from time import time \n",
    "\n",
    "channels = 3\n",
    "\n",
    "transform = transforms.Compose([\n",
    "    transforms.Resize(32),\n",
    "    transforms.ToTensor(),\n",
    "    transforms.Normalize((0.5, 0.5, 0.5), (0.5, 0.5, 0.5)),\n",
    "])\n",
    "\n",
    "dataset = datasets.CIFAR10(root='./data',train=True,download=True,transform=transform)\n",
    "\n",
    "\n",
    "print('type : ',type(dataset))\n",
    "\n",
    "mean = dataset.data.mean(axis=(0,1,2)) #train_data에서 data로 변경 됨 \n",
    "std = dataset.data.std(axis=(0,1,2))\n",
    "\n",
    "mean = mean / 255\n",
    "std = std / 255\n"
   ]
  },
  {
   "cell_type": "code",
   "execution_count": 18,
   "metadata": {},
   "outputs": [
    {
     "name": "stdout",
     "output_type": "stream",
     "text": [
      "[0.49139968 0.48215841 0.44653091]\n",
      "[0.24703223 0.24348513 0.26158784]\n"
     ]
    }
   ],
   "source": [
    "print(mean)\n",
    "print(std)"
   ]
  },
  {
   "cell_type": "markdown",
   "metadata": {},
   "source": [
    "### RGB mean/std "
   ]
  },
  {
   "cell_type": "code",
   "execution_count": 5,
   "metadata": {},
   "outputs": [],
   "source": [
    "import json \n",
    "from PIL import Image\n",
    "import numpy as np \n",
    "import glob \n",
    "import os \n",
    "\n",
    "files = glob.glob('./Car_data/Cardata_resize/*.jpg')\n",
    "\n",
    "images = [] \n",
    "\n",
    "for i in files:\n",
    "    image = Image.open(i)\n",
    "    image = np.asarray(image)\n",
    "    images.append(image)\n",
    "\n",
    "images = np.array(images)\n",
    "\n"
   ]
  },
  {
   "cell_type": "code",
   "execution_count": 6,
   "metadata": {},
   "outputs": [
    {
     "data": {
      "text/plain": [
       "(16185, 224, 224, 3)"
      ]
     },
     "execution_count": 6,
     "metadata": {},
     "output_type": "execute_result"
    }
   ],
   "source": [
    "images.shape"
   ]
  },
  {
   "cell_type": "code",
   "execution_count": 12,
   "metadata": {},
   "outputs": [
    {
     "name": "stdout",
     "output_type": "stream",
     "text": [
      "MEAN\n",
      "0.469\n",
      "0.459\n",
      "0.454\n",
      "STD\n",
      "0.293\n",
      "0.292\n",
      "0.300\n"
     ]
    }
   ],
   "source": [
    "print(\"MEAN\")\n",
    "print(format(np.mean(images[:,:,:,0]) / 255.,\".3f\"))\n",
    "print(format(np.mean(images[:,:,:,1]) / 255.,\".3f\"))\n",
    "print(format(np.mean(images[:,:,:,2]) / 255.,\".3f\"))\n",
    "\n",
    "print(\"STD\")\n",
    "print(format(np.std(images[:,:,:,0]) / 255.,\".3f\"))\n",
    "print(format(np.std(images[:,:,:,1]) / 255.,\".3f\"))\n",
    "print(format(np.std(images[:,:,:,2]) / 255.,\".3f\"))\n"
   ]
  },
  {
   "cell_type": "code",
   "execution_count": null,
   "metadata": {},
   "outputs": [],
   "source": []
  }
 ],
 "metadata": {
  "kernelspec": {
   "display_name": "Python 3.10.4 ('pytorch')",
   "language": "python",
   "name": "python3"
  },
  "language_info": {
   "codemirror_mode": {
    "name": "ipython",
    "version": 3
   },
   "file_extension": ".py",
   "mimetype": "text/x-python",
   "name": "python",
   "nbconvert_exporter": "python",
   "pygments_lexer": "ipython3",
   "version": "3.10.4"
  },
  "orig_nbformat": 4,
  "vscode": {
   "interpreter": {
    "hash": "ee22937dcbee3f51f6aed73815f5ebb41f6c896aa5905ae71496d4374e7de50a"
   }
  }
 },
 "nbformat": 4,
 "nbformat_minor": 2
}
