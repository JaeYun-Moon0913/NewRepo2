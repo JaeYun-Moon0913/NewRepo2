{
 "cells": [
  {
   "cell_type": "code",
   "execution_count": 1,
   "metadata": {},
   "outputs": [],
   "source": [
    "import os \n",
    "import glob \n"
   ]
  },
  {
   "cell_type": "code",
   "execution_count": 8,
   "metadata": {},
   "outputs": [],
   "source": [
    "file_pth = glob.glob('./car_data/Cardata_resize/*.jpg')\n",
    "gt_pth = glob.glob('./car_data/test_data/*.jpg')"
   ]
  },
  {
   "cell_type": "code",
   "execution_count": 9,
   "metadata": {},
   "outputs": [
    {
     "name": "stdout",
     "output_type": "stream",
     "text": [
      "./car_data/test_data\\000099.jpg\n",
      "./car_data/Cardata_resize\\000090.jpg\n"
     ]
    }
   ],
   "source": [
    "print(gt_pth[0])\n",
    "print(file_pth[0])"
   ]
  },
  {
   "cell_type": "code",
   "execution_count": 21,
   "metadata": {},
   "outputs": [],
   "source": [
    "remove_list = [] \n",
    "for i in file_pth:\n",
    "    file_name=i.split('/')[2].split('\\\\')[1]\n",
    "    for j in gt_pth:\n",
    "        gt_name = j.split('/')[2].split('\\\\')[1]\n",
    "\n",
    "        if file_name == gt_name:\n",
    "            os.remove(i)\n",
    "\n",
    "\n",
    "\n"
   ]
  },
  {
   "cell_type": "code",
   "execution_count": 19,
   "metadata": {},
   "outputs": [
    {
     "data": {
      "text/plain": [
       "['000099.jpg',\n",
       " '000100.jpg',\n",
       " '000101.jpg',\n",
       " '000141.jpg',\n",
       " '000143.jpg',\n",
       " '000152.jpg',\n",
       " '000153.jpg',\n",
       " '000154.jpg',\n",
       " '000191.jpg',\n",
       " '000194.jpg',\n",
       " '000417.jpg',\n",
       " '000461.jpg',\n",
       " '000716.jpg',\n",
       " '000788.jpg',\n",
       " '000851.jpg',\n",
       " '001052.jpg',\n",
       " '001097.jpg',\n",
       " '001221.jpg',\n",
       " '001273.jpg',\n",
       " '001688.jpg',\n",
       " '001883.jpg',\n",
       " '001958.jpg',\n",
       " '002001.jpg',\n",
       " '002211.jpg']"
      ]
     },
     "execution_count": 19,
     "metadata": {},
     "output_type": "execute_result"
    }
   ],
   "source": [
    "remove_list"
   ]
  },
  {
   "cell_type": "code",
   "execution_count": 3,
   "metadata": {},
   "outputs": [
    {
     "name": "stderr",
     "output_type": "stream",
     "text": [
      "Downloading...\n",
      "From: https://drive.google.com/drive/folders/18EunmjOJsbE5Lh9zA0cZ4wKV6Um46dkg\n",
      "To: c:\\Users\\mjy22\\Desktop\\grad_result\\car.zip\n",
      "913kB [00:00, 5.47MB/s]\n"
     ]
    },
    {
     "data": {
      "text/plain": [
       "'car.zip'"
      ]
     },
     "execution_count": 3,
     "metadata": {},
     "output_type": "execute_result"
    }
   ],
   "source": []
  },
  {
   "cell_type": "code",
   "execution_count": null,
   "metadata": {},
   "outputs": [],
   "source": []
  }
 ],
 "metadata": {
  "kernelspec": {
   "display_name": "Python 3.10.4 ('pytorch')",
   "language": "python",
   "name": "python3"
  },
  "language_info": {
   "codemirror_mode": {
    "name": "ipython",
    "version": 3
   },
   "file_extension": ".py",
   "mimetype": "text/x-python",
   "name": "python",
   "nbconvert_exporter": "python",
   "pygments_lexer": "ipython3",
   "version": "3.10.4"
  },
  "orig_nbformat": 4,
  "vscode": {
   "interpreter": {
    "hash": "ee22937dcbee3f51f6aed73815f5ebb41f6c896aa5905ae71496d4374e7de50a"
   }
  }
 },
 "nbformat": 4,
 "nbformat_minor": 2
}
